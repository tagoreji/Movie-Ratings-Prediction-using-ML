{
 "cells": [
  {
   "cell_type": "code",
   "execution_count": 1,
   "id": "5e9020a0",
   "metadata": {},
   "outputs": [],
   "source": [
    "import numpy as np\n",
    "import pandas as pd\n",
    "import seaborn as sns\n",
    "import matplotlib.pyplot as plt\n",
    "%matplotlib inline   "
   ]
  },
  {
   "cell_type": "code",
   "execution_count": 2,
   "id": "fbee60dd",
   "metadata": {},
   "outputs": [],
   "source": [
    "ratings_header = \"UserID::MovieID::Rating::Timestamp\".split(\"::\")\n",
    "users_header = \"UserID::Gender::Age::Occupation::Zip-code\".split(\"::\")\n",
    "movies_header = \"MovieID::Title::Genres\".split(\"::\")"
   ]
  },
  {
   "cell_type": "code",
   "execution_count": 3,
   "id": "14903fe9",
   "metadata": {
    "scrolled": true
   },
   "outputs": [
    {
     "name": "stderr",
     "output_type": "stream",
     "text": [
      "<ipython-input-3-83ea0b2af4d7>:1: ParserWarning: Falling back to the 'python' engine because the 'c' engine does not support regex separators (separators > 1 char and different from '\\s+' are interpreted as regex); you can avoid this warning by specifying engine='python'.\n",
      "  ratings = pd.read_table(\"ratings.dat\",sep =\"::\",names=ratings_header)\n",
      "<ipython-input-3-83ea0b2af4d7>:2: ParserWarning: Falling back to the 'python' engine because the 'c' engine does not support regex separators (separators > 1 char and different from '\\s+' are interpreted as regex); you can avoid this warning by specifying engine='python'.\n",
      "  movies = pd.read_table(\"movies.dat\",sep =\"::\",names =movies_header)\n",
      "<ipython-input-3-83ea0b2af4d7>:3: ParserWarning: Falling back to the 'python' engine because the 'c' engine does not support regex separators (separators > 1 char and different from '\\s+' are interpreted as regex); you can avoid this warning by specifying engine='python'.\n",
      "  users = pd.read_table(\"users.dat\",sep = \"::\",names = users_header)\n"
     ]
    }
   ],
   "source": [
    "ratings = pd.read_table(\"ratings.dat\",sep =\"::\",names=ratings_header)\n",
    "movies = pd.read_table(\"movies.dat\",sep =\"::\",names =movies_header)\n",
    "users = pd.read_table(\"users.dat\",sep = \"::\",names = users_header)"
   ]
  },
  {
   "cell_type": "code",
   "execution_count": 4,
   "id": "c9e86984",
   "metadata": {},
   "outputs": [
    {
     "name": "stdout",
     "output_type": "stream",
     "text": [
      "MOVIES TABLE shape is (3883, 3)\n"
     ]
    },
    {
     "data": {
      "text/html": [
       "<div>\n",
       "<style scoped>\n",
       "    .dataframe tbody tr th:only-of-type {\n",
       "        vertical-align: middle;\n",
       "    }\n",
       "\n",
       "    .dataframe tbody tr th {\n",
       "        vertical-align: top;\n",
       "    }\n",
       "\n",
       "    .dataframe thead th {\n",
       "        text-align: right;\n",
       "    }\n",
       "</style>\n",
       "<table border=\"1\" class=\"dataframe\">\n",
       "  <thead>\n",
       "    <tr style=\"text-align: right;\">\n",
       "      <th></th>\n",
       "      <th>MovieID</th>\n",
       "      <th>Title</th>\n",
       "      <th>Genres</th>\n",
       "    </tr>\n",
       "  </thead>\n",
       "  <tbody>\n",
       "    <tr>\n",
       "      <th>0</th>\n",
       "      <td>1</td>\n",
       "      <td>Toy Story (1995)</td>\n",
       "      <td>Animation|Children's|Comedy</td>\n",
       "    </tr>\n",
       "    <tr>\n",
       "      <th>1</th>\n",
       "      <td>2</td>\n",
       "      <td>Jumanji (1995)</td>\n",
       "      <td>Adventure|Children's|Fantasy</td>\n",
       "    </tr>\n",
       "    <tr>\n",
       "      <th>2</th>\n",
       "      <td>3</td>\n",
       "      <td>Grumpier Old Men (1995)</td>\n",
       "      <td>Comedy|Romance</td>\n",
       "    </tr>\n",
       "    <tr>\n",
       "      <th>3</th>\n",
       "      <td>4</td>\n",
       "      <td>Waiting to Exhale (1995)</td>\n",
       "      <td>Comedy|Drama</td>\n",
       "    </tr>\n",
       "    <tr>\n",
       "      <th>4</th>\n",
       "      <td>5</td>\n",
       "      <td>Father of the Bride Part II (1995)</td>\n",
       "      <td>Comedy</td>\n",
       "    </tr>\n",
       "    <tr>\n",
       "      <th>...</th>\n",
       "      <td>...</td>\n",
       "      <td>...</td>\n",
       "      <td>...</td>\n",
       "    </tr>\n",
       "    <tr>\n",
       "      <th>3878</th>\n",
       "      <td>3948</td>\n",
       "      <td>Meet the Parents (2000)</td>\n",
       "      <td>Comedy</td>\n",
       "    </tr>\n",
       "    <tr>\n",
       "      <th>3879</th>\n",
       "      <td>3949</td>\n",
       "      <td>Requiem for a Dream (2000)</td>\n",
       "      <td>Drama</td>\n",
       "    </tr>\n",
       "    <tr>\n",
       "      <th>3880</th>\n",
       "      <td>3950</td>\n",
       "      <td>Tigerland (2000)</td>\n",
       "      <td>Drama</td>\n",
       "    </tr>\n",
       "    <tr>\n",
       "      <th>3881</th>\n",
       "      <td>3951</td>\n",
       "      <td>Two Family House (2000)</td>\n",
       "      <td>Drama</td>\n",
       "    </tr>\n",
       "    <tr>\n",
       "      <th>3882</th>\n",
       "      <td>3952</td>\n",
       "      <td>Contender, The (2000)</td>\n",
       "      <td>Drama|Thriller</td>\n",
       "    </tr>\n",
       "  </tbody>\n",
       "</table>\n",
       "<p>3883 rows × 3 columns</p>\n",
       "</div>"
      ],
      "text/plain": [
       "      MovieID                               Title  \\\n",
       "0           1                    Toy Story (1995)   \n",
       "1           2                      Jumanji (1995)   \n",
       "2           3             Grumpier Old Men (1995)   \n",
       "3           4            Waiting to Exhale (1995)   \n",
       "4           5  Father of the Bride Part II (1995)   \n",
       "...       ...                                 ...   \n",
       "3878     3948             Meet the Parents (2000)   \n",
       "3879     3949          Requiem for a Dream (2000)   \n",
       "3880     3950                    Tigerland (2000)   \n",
       "3881     3951             Two Family House (2000)   \n",
       "3882     3952               Contender, The (2000)   \n",
       "\n",
       "                            Genres  \n",
       "0      Animation|Children's|Comedy  \n",
       "1     Adventure|Children's|Fantasy  \n",
       "2                   Comedy|Romance  \n",
       "3                     Comedy|Drama  \n",
       "4                           Comedy  \n",
       "...                            ...  \n",
       "3878                        Comedy  \n",
       "3879                         Drama  \n",
       "3880                         Drama  \n",
       "3881                         Drama  \n",
       "3882                Drama|Thriller  \n",
       "\n",
       "[3883 rows x 3 columns]"
      ]
     },
     "execution_count": 4,
     "metadata": {},
     "output_type": "execute_result"
    }
   ],
   "source": [
    "print(\"MOVIES TABLE shape is\",movies.shape)\n",
    "movies"
   ]
  },
  {
   "cell_type": "code",
   "execution_count": 5,
   "id": "fd09179f",
   "metadata": {},
   "outputs": [
    {
     "name": "stdout",
     "output_type": "stream",
     "text": [
      "USERS TABLE shape is  (6040, 5)\n"
     ]
    },
    {
     "data": {
      "text/html": [
       "<div>\n",
       "<style scoped>\n",
       "    .dataframe tbody tr th:only-of-type {\n",
       "        vertical-align: middle;\n",
       "    }\n",
       "\n",
       "    .dataframe tbody tr th {\n",
       "        vertical-align: top;\n",
       "    }\n",
       "\n",
       "    .dataframe thead th {\n",
       "        text-align: right;\n",
       "    }\n",
       "</style>\n",
       "<table border=\"1\" class=\"dataframe\">\n",
       "  <thead>\n",
       "    <tr style=\"text-align: right;\">\n",
       "      <th></th>\n",
       "      <th>UserID</th>\n",
       "      <th>Gender</th>\n",
       "      <th>Age</th>\n",
       "      <th>Occupation</th>\n",
       "      <th>Zip-code</th>\n",
       "    </tr>\n",
       "  </thead>\n",
       "  <tbody>\n",
       "    <tr>\n",
       "      <th>0</th>\n",
       "      <td>1</td>\n",
       "      <td>F</td>\n",
       "      <td>1</td>\n",
       "      <td>10</td>\n",
       "      <td>48067</td>\n",
       "    </tr>\n",
       "    <tr>\n",
       "      <th>1</th>\n",
       "      <td>2</td>\n",
       "      <td>M</td>\n",
       "      <td>56</td>\n",
       "      <td>16</td>\n",
       "      <td>70072</td>\n",
       "    </tr>\n",
       "    <tr>\n",
       "      <th>2</th>\n",
       "      <td>3</td>\n",
       "      <td>M</td>\n",
       "      <td>25</td>\n",
       "      <td>15</td>\n",
       "      <td>55117</td>\n",
       "    </tr>\n",
       "    <tr>\n",
       "      <th>3</th>\n",
       "      <td>4</td>\n",
       "      <td>M</td>\n",
       "      <td>45</td>\n",
       "      <td>7</td>\n",
       "      <td>02460</td>\n",
       "    </tr>\n",
       "    <tr>\n",
       "      <th>4</th>\n",
       "      <td>5</td>\n",
       "      <td>M</td>\n",
       "      <td>25</td>\n",
       "      <td>20</td>\n",
       "      <td>55455</td>\n",
       "    </tr>\n",
       "    <tr>\n",
       "      <th>...</th>\n",
       "      <td>...</td>\n",
       "      <td>...</td>\n",
       "      <td>...</td>\n",
       "      <td>...</td>\n",
       "      <td>...</td>\n",
       "    </tr>\n",
       "    <tr>\n",
       "      <th>6035</th>\n",
       "      <td>6036</td>\n",
       "      <td>F</td>\n",
       "      <td>25</td>\n",
       "      <td>15</td>\n",
       "      <td>32603</td>\n",
       "    </tr>\n",
       "    <tr>\n",
       "      <th>6036</th>\n",
       "      <td>6037</td>\n",
       "      <td>F</td>\n",
       "      <td>45</td>\n",
       "      <td>1</td>\n",
       "      <td>76006</td>\n",
       "    </tr>\n",
       "    <tr>\n",
       "      <th>6037</th>\n",
       "      <td>6038</td>\n",
       "      <td>F</td>\n",
       "      <td>56</td>\n",
       "      <td>1</td>\n",
       "      <td>14706</td>\n",
       "    </tr>\n",
       "    <tr>\n",
       "      <th>6038</th>\n",
       "      <td>6039</td>\n",
       "      <td>F</td>\n",
       "      <td>45</td>\n",
       "      <td>0</td>\n",
       "      <td>01060</td>\n",
       "    </tr>\n",
       "    <tr>\n",
       "      <th>6039</th>\n",
       "      <td>6040</td>\n",
       "      <td>M</td>\n",
       "      <td>25</td>\n",
       "      <td>6</td>\n",
       "      <td>11106</td>\n",
       "    </tr>\n",
       "  </tbody>\n",
       "</table>\n",
       "<p>6040 rows × 5 columns</p>\n",
       "</div>"
      ],
      "text/plain": [
       "      UserID Gender  Age  Occupation Zip-code\n",
       "0          1      F    1          10    48067\n",
       "1          2      M   56          16    70072\n",
       "2          3      M   25          15    55117\n",
       "3          4      M   45           7    02460\n",
       "4          5      M   25          20    55455\n",
       "...      ...    ...  ...         ...      ...\n",
       "6035    6036      F   25          15    32603\n",
       "6036    6037      F   45           1    76006\n",
       "6037    6038      F   56           1    14706\n",
       "6038    6039      F   45           0    01060\n",
       "6039    6040      M   25           6    11106\n",
       "\n",
       "[6040 rows x 5 columns]"
      ]
     },
     "execution_count": 5,
     "metadata": {},
     "output_type": "execute_result"
    }
   ],
   "source": [
    "print(\"USERS TABLE shape is \",users.shape)\n",
    "users"
   ]
  },
  {
   "cell_type": "code",
   "execution_count": 6,
   "id": "a4ed4a76",
   "metadata": {},
   "outputs": [
    {
     "name": "stdout",
     "output_type": "stream",
     "text": [
      "RATINGS TABLE shape is (1000209, 4)\n"
     ]
    },
    {
     "data": {
      "text/html": [
       "<div>\n",
       "<style scoped>\n",
       "    .dataframe tbody tr th:only-of-type {\n",
       "        vertical-align: middle;\n",
       "    }\n",
       "\n",
       "    .dataframe tbody tr th {\n",
       "        vertical-align: top;\n",
       "    }\n",
       "\n",
       "    .dataframe thead th {\n",
       "        text-align: right;\n",
       "    }\n",
       "</style>\n",
       "<table border=\"1\" class=\"dataframe\">\n",
       "  <thead>\n",
       "    <tr style=\"text-align: right;\">\n",
       "      <th></th>\n",
       "      <th>UserID</th>\n",
       "      <th>MovieID</th>\n",
       "      <th>Rating</th>\n",
       "      <th>Timestamp</th>\n",
       "    </tr>\n",
       "  </thead>\n",
       "  <tbody>\n",
       "    <tr>\n",
       "      <th>40</th>\n",
       "      <td>1</td>\n",
       "      <td>1</td>\n",
       "      <td>5</td>\n",
       "      <td>978824268</td>\n",
       "    </tr>\n",
       "    <tr>\n",
       "      <th>25</th>\n",
       "      <td>1</td>\n",
       "      <td>48</td>\n",
       "      <td>5</td>\n",
       "      <td>978824351</td>\n",
       "    </tr>\n",
       "    <tr>\n",
       "      <th>39</th>\n",
       "      <td>1</td>\n",
       "      <td>150</td>\n",
       "      <td>5</td>\n",
       "      <td>978301777</td>\n",
       "    </tr>\n",
       "    <tr>\n",
       "      <th>44</th>\n",
       "      <td>1</td>\n",
       "      <td>260</td>\n",
       "      <td>4</td>\n",
       "      <td>978300760</td>\n",
       "    </tr>\n",
       "    <tr>\n",
       "      <th>23</th>\n",
       "      <td>1</td>\n",
       "      <td>527</td>\n",
       "      <td>5</td>\n",
       "      <td>978824195</td>\n",
       "    </tr>\n",
       "    <tr>\n",
       "      <th>...</th>\n",
       "      <td>...</td>\n",
       "      <td>...</td>\n",
       "      <td>...</td>\n",
       "      <td>...</td>\n",
       "    </tr>\n",
       "    <tr>\n",
       "      <th>1000120</th>\n",
       "      <td>6040</td>\n",
       "      <td>3683</td>\n",
       "      <td>4</td>\n",
       "      <td>960971696</td>\n",
       "    </tr>\n",
       "    <tr>\n",
       "      <th>1000178</th>\n",
       "      <td>6040</td>\n",
       "      <td>3703</td>\n",
       "      <td>4</td>\n",
       "      <td>964828575</td>\n",
       "    </tr>\n",
       "    <tr>\n",
       "      <th>1000183</th>\n",
       "      <td>6040</td>\n",
       "      <td>3735</td>\n",
       "      <td>4</td>\n",
       "      <td>960971654</td>\n",
       "    </tr>\n",
       "    <tr>\n",
       "      <th>1000191</th>\n",
       "      <td>6040</td>\n",
       "      <td>3751</td>\n",
       "      <td>4</td>\n",
       "      <td>964828782</td>\n",
       "    </tr>\n",
       "    <tr>\n",
       "      <th>999943</th>\n",
       "      <td>6040</td>\n",
       "      <td>3819</td>\n",
       "      <td>5</td>\n",
       "      <td>963272166</td>\n",
       "    </tr>\n",
       "  </tbody>\n",
       "</table>\n",
       "<p>1000209 rows × 4 columns</p>\n",
       "</div>"
      ],
      "text/plain": [
       "         UserID  MovieID  Rating  Timestamp\n",
       "40            1        1       5  978824268\n",
       "25            1       48       5  978824351\n",
       "39            1      150       5  978301777\n",
       "44            1      260       4  978300760\n",
       "23            1      527       5  978824195\n",
       "...         ...      ...     ...        ...\n",
       "1000120    6040     3683       4  960971696\n",
       "1000178    6040     3703       4  964828575\n",
       "1000183    6040     3735       4  960971654\n",
       "1000191    6040     3751       4  964828782\n",
       "999943     6040     3819       5  963272166\n",
       "\n",
       "[1000209 rows x 4 columns]"
      ]
     },
     "execution_count": 6,
     "metadata": {},
     "output_type": "execute_result"
    }
   ],
   "source": [
    "print(\"RATINGS TABLE shape is\",ratings.shape)\n",
    "ratings.sort_values(by =[\"UserID\",\"MovieID\"],inplace = True)\n",
    "ratings"
   ]
  },
  {
   "cell_type": "markdown",
   "id": "5b85bf14",
   "metadata": {},
   "source": [
    "# 1.MERGING DATA INTO ONE DATA SET\n"
   ]
  },
  {
   "cell_type": "code",
   "execution_count": 7,
   "id": "f6bb0803",
   "metadata": {},
   "outputs": [],
   "source": [
    "movie_and_ratings = pd.merge(movies,ratings,on =\"MovieID\" )"
   ]
  },
  {
   "cell_type": "code",
   "execution_count": 8,
   "id": "8b1b51d1",
   "metadata": {},
   "outputs": [
    {
     "data": {
      "text/html": [
       "<div>\n",
       "<style scoped>\n",
       "    .dataframe tbody tr th:only-of-type {\n",
       "        vertical-align: middle;\n",
       "    }\n",
       "\n",
       "    .dataframe tbody tr th {\n",
       "        vertical-align: top;\n",
       "    }\n",
       "\n",
       "    .dataframe thead th {\n",
       "        text-align: right;\n",
       "    }\n",
       "</style>\n",
       "<table border=\"1\" class=\"dataframe\">\n",
       "  <thead>\n",
       "    <tr style=\"text-align: right;\">\n",
       "      <th></th>\n",
       "      <th>MovieID</th>\n",
       "      <th>Title</th>\n",
       "      <th>Genres</th>\n",
       "      <th>UserID</th>\n",
       "      <th>Rating</th>\n",
       "      <th>Timestamp</th>\n",
       "    </tr>\n",
       "  </thead>\n",
       "  <tbody>\n",
       "    <tr>\n",
       "      <th>0</th>\n",
       "      <td>1</td>\n",
       "      <td>Toy Story (1995)</td>\n",
       "      <td>Animation|Children's|Comedy</td>\n",
       "      <td>1</td>\n",
       "      <td>5</td>\n",
       "      <td>978824268</td>\n",
       "    </tr>\n",
       "    <tr>\n",
       "      <th>1</th>\n",
       "      <td>1</td>\n",
       "      <td>Toy Story (1995)</td>\n",
       "      <td>Animation|Children's|Comedy</td>\n",
       "      <td>6</td>\n",
       "      <td>4</td>\n",
       "      <td>978237008</td>\n",
       "    </tr>\n",
       "    <tr>\n",
       "      <th>2</th>\n",
       "      <td>1</td>\n",
       "      <td>Toy Story (1995)</td>\n",
       "      <td>Animation|Children's|Comedy</td>\n",
       "      <td>8</td>\n",
       "      <td>4</td>\n",
       "      <td>978233496</td>\n",
       "    </tr>\n",
       "    <tr>\n",
       "      <th>3</th>\n",
       "      <td>1</td>\n",
       "      <td>Toy Story (1995)</td>\n",
       "      <td>Animation|Children's|Comedy</td>\n",
       "      <td>9</td>\n",
       "      <td>5</td>\n",
       "      <td>978225952</td>\n",
       "    </tr>\n",
       "    <tr>\n",
       "      <th>4</th>\n",
       "      <td>1</td>\n",
       "      <td>Toy Story (1995)</td>\n",
       "      <td>Animation|Children's|Comedy</td>\n",
       "      <td>10</td>\n",
       "      <td>5</td>\n",
       "      <td>978226474</td>\n",
       "    </tr>\n",
       "    <tr>\n",
       "      <th>...</th>\n",
       "      <td>...</td>\n",
       "      <td>...</td>\n",
       "      <td>...</td>\n",
       "      <td>...</td>\n",
       "      <td>...</td>\n",
       "      <td>...</td>\n",
       "    </tr>\n",
       "    <tr>\n",
       "      <th>1000204</th>\n",
       "      <td>3952</td>\n",
       "      <td>Contender, The (2000)</td>\n",
       "      <td>Drama|Thriller</td>\n",
       "      <td>5812</td>\n",
       "      <td>4</td>\n",
       "      <td>992072099</td>\n",
       "    </tr>\n",
       "    <tr>\n",
       "      <th>1000205</th>\n",
       "      <td>3952</td>\n",
       "      <td>Contender, The (2000)</td>\n",
       "      <td>Drama|Thriller</td>\n",
       "      <td>5831</td>\n",
       "      <td>3</td>\n",
       "      <td>986223125</td>\n",
       "    </tr>\n",
       "    <tr>\n",
       "      <th>1000206</th>\n",
       "      <td>3952</td>\n",
       "      <td>Contender, The (2000)</td>\n",
       "      <td>Drama|Thriller</td>\n",
       "      <td>5837</td>\n",
       "      <td>4</td>\n",
       "      <td>1011902656</td>\n",
       "    </tr>\n",
       "    <tr>\n",
       "      <th>1000207</th>\n",
       "      <td>3952</td>\n",
       "      <td>Contender, The (2000)</td>\n",
       "      <td>Drama|Thriller</td>\n",
       "      <td>5927</td>\n",
       "      <td>1</td>\n",
       "      <td>979852537</td>\n",
       "    </tr>\n",
       "    <tr>\n",
       "      <th>1000208</th>\n",
       "      <td>3952</td>\n",
       "      <td>Contender, The (2000)</td>\n",
       "      <td>Drama|Thriller</td>\n",
       "      <td>5998</td>\n",
       "      <td>4</td>\n",
       "      <td>1001781044</td>\n",
       "    </tr>\n",
       "  </tbody>\n",
       "</table>\n",
       "<p>1000209 rows × 6 columns</p>\n",
       "</div>"
      ],
      "text/plain": [
       "         MovieID                  Title                       Genres  UserID  \\\n",
       "0              1       Toy Story (1995)  Animation|Children's|Comedy       1   \n",
       "1              1       Toy Story (1995)  Animation|Children's|Comedy       6   \n",
       "2              1       Toy Story (1995)  Animation|Children's|Comedy       8   \n",
       "3              1       Toy Story (1995)  Animation|Children's|Comedy       9   \n",
       "4              1       Toy Story (1995)  Animation|Children's|Comedy      10   \n",
       "...          ...                    ...                          ...     ...   \n",
       "1000204     3952  Contender, The (2000)               Drama|Thriller    5812   \n",
       "1000205     3952  Contender, The (2000)               Drama|Thriller    5831   \n",
       "1000206     3952  Contender, The (2000)               Drama|Thriller    5837   \n",
       "1000207     3952  Contender, The (2000)               Drama|Thriller    5927   \n",
       "1000208     3952  Contender, The (2000)               Drama|Thriller    5998   \n",
       "\n",
       "         Rating   Timestamp  \n",
       "0             5   978824268  \n",
       "1             4   978237008  \n",
       "2             4   978233496  \n",
       "3             5   978225952  \n",
       "4             5   978226474  \n",
       "...         ...         ...  \n",
       "1000204       4   992072099  \n",
       "1000205       3   986223125  \n",
       "1000206       4  1011902656  \n",
       "1000207       1   979852537  \n",
       "1000208       4  1001781044  \n",
       "\n",
       "[1000209 rows x 6 columns]"
      ]
     },
     "execution_count": 8,
     "metadata": {},
     "output_type": "execute_result"
    }
   ],
   "source": [
    "movie_and_ratings"
   ]
  },
  {
   "cell_type": "code",
   "execution_count": 9,
   "id": "5503b78a",
   "metadata": {},
   "outputs": [
    {
     "data": {
      "text/plain": [
       "(1000209, 6)"
      ]
     },
     "execution_count": 9,
     "metadata": {},
     "output_type": "execute_result"
    }
   ],
   "source": [
    "movie_and_ratings.shape"
   ]
  },
  {
   "cell_type": "code",
   "execution_count": 10,
   "id": "6c6cf0d4",
   "metadata": {},
   "outputs": [],
   "source": [
    "master_ratings = pd.merge(movie_and_ratings,users,on= \"UserID\")"
   ]
  },
  {
   "cell_type": "code",
   "execution_count": 11,
   "id": "72512445",
   "metadata": {},
   "outputs": [],
   "source": [
    "master_ratings.sort_values(by = [\"UserID\",\"MovieID\"],inplace = True,ignore_index = True)"
   ]
  },
  {
   "cell_type": "code",
   "execution_count": 12,
   "id": "fe41be61",
   "metadata": {},
   "outputs": [
    {
     "data": {
      "text/html": [
       "<div>\n",
       "<style scoped>\n",
       "    .dataframe tbody tr th:only-of-type {\n",
       "        vertical-align: middle;\n",
       "    }\n",
       "\n",
       "    .dataframe tbody tr th {\n",
       "        vertical-align: top;\n",
       "    }\n",
       "\n",
       "    .dataframe thead th {\n",
       "        text-align: right;\n",
       "    }\n",
       "</style>\n",
       "<table border=\"1\" class=\"dataframe\">\n",
       "  <thead>\n",
       "    <tr style=\"text-align: right;\">\n",
       "      <th></th>\n",
       "      <th>MovieID</th>\n",
       "      <th>Title</th>\n",
       "      <th>Genres</th>\n",
       "      <th>UserID</th>\n",
       "      <th>Rating</th>\n",
       "      <th>Timestamp</th>\n",
       "      <th>Gender</th>\n",
       "      <th>Age</th>\n",
       "      <th>Occupation</th>\n",
       "      <th>Zip-code</th>\n",
       "    </tr>\n",
       "  </thead>\n",
       "  <tbody>\n",
       "    <tr>\n",
       "      <th>0</th>\n",
       "      <td>1</td>\n",
       "      <td>Toy Story (1995)</td>\n",
       "      <td>Animation|Children's|Comedy</td>\n",
       "      <td>1</td>\n",
       "      <td>5</td>\n",
       "      <td>978824268</td>\n",
       "      <td>F</td>\n",
       "      <td>1</td>\n",
       "      <td>10</td>\n",
       "      <td>48067</td>\n",
       "    </tr>\n",
       "    <tr>\n",
       "      <th>1</th>\n",
       "      <td>48</td>\n",
       "      <td>Pocahontas (1995)</td>\n",
       "      <td>Animation|Children's|Musical|Romance</td>\n",
       "      <td>1</td>\n",
       "      <td>5</td>\n",
       "      <td>978824351</td>\n",
       "      <td>F</td>\n",
       "      <td>1</td>\n",
       "      <td>10</td>\n",
       "      <td>48067</td>\n",
       "    </tr>\n",
       "    <tr>\n",
       "      <th>2</th>\n",
       "      <td>150</td>\n",
       "      <td>Apollo 13 (1995)</td>\n",
       "      <td>Drama</td>\n",
       "      <td>1</td>\n",
       "      <td>5</td>\n",
       "      <td>978301777</td>\n",
       "      <td>F</td>\n",
       "      <td>1</td>\n",
       "      <td>10</td>\n",
       "      <td>48067</td>\n",
       "    </tr>\n",
       "    <tr>\n",
       "      <th>3</th>\n",
       "      <td>260</td>\n",
       "      <td>Star Wars: Episode IV - A New Hope (1977)</td>\n",
       "      <td>Action|Adventure|Fantasy|Sci-Fi</td>\n",
       "      <td>1</td>\n",
       "      <td>4</td>\n",
       "      <td>978300760</td>\n",
       "      <td>F</td>\n",
       "      <td>1</td>\n",
       "      <td>10</td>\n",
       "      <td>48067</td>\n",
       "    </tr>\n",
       "    <tr>\n",
       "      <th>4</th>\n",
       "      <td>527</td>\n",
       "      <td>Schindler's List (1993)</td>\n",
       "      <td>Drama|War</td>\n",
       "      <td>1</td>\n",
       "      <td>5</td>\n",
       "      <td>978824195</td>\n",
       "      <td>F</td>\n",
       "      <td>1</td>\n",
       "      <td>10</td>\n",
       "      <td>48067</td>\n",
       "    </tr>\n",
       "    <tr>\n",
       "      <th>...</th>\n",
       "      <td>...</td>\n",
       "      <td>...</td>\n",
       "      <td>...</td>\n",
       "      <td>...</td>\n",
       "      <td>...</td>\n",
       "      <td>...</td>\n",
       "      <td>...</td>\n",
       "      <td>...</td>\n",
       "      <td>...</td>\n",
       "      <td>...</td>\n",
       "    </tr>\n",
       "    <tr>\n",
       "      <th>1000204</th>\n",
       "      <td>3683</td>\n",
       "      <td>Blood Simple (1984)</td>\n",
       "      <td>Drama|Film-Noir</td>\n",
       "      <td>6040</td>\n",
       "      <td>4</td>\n",
       "      <td>960971696</td>\n",
       "      <td>M</td>\n",
       "      <td>25</td>\n",
       "      <td>6</td>\n",
       "      <td>11106</td>\n",
       "    </tr>\n",
       "    <tr>\n",
       "      <th>1000205</th>\n",
       "      <td>3703</td>\n",
       "      <td>Mad Max 2 (a.k.a. The Road Warrior) (1981)</td>\n",
       "      <td>Action|Sci-Fi</td>\n",
       "      <td>6040</td>\n",
       "      <td>4</td>\n",
       "      <td>964828575</td>\n",
       "      <td>M</td>\n",
       "      <td>25</td>\n",
       "      <td>6</td>\n",
       "      <td>11106</td>\n",
       "    </tr>\n",
       "    <tr>\n",
       "      <th>1000206</th>\n",
       "      <td>3735</td>\n",
       "      <td>Serpico (1973)</td>\n",
       "      <td>Crime|Drama</td>\n",
       "      <td>6040</td>\n",
       "      <td>4</td>\n",
       "      <td>960971654</td>\n",
       "      <td>M</td>\n",
       "      <td>25</td>\n",
       "      <td>6</td>\n",
       "      <td>11106</td>\n",
       "    </tr>\n",
       "    <tr>\n",
       "      <th>1000207</th>\n",
       "      <td>3751</td>\n",
       "      <td>Chicken Run (2000)</td>\n",
       "      <td>Animation|Children's|Comedy</td>\n",
       "      <td>6040</td>\n",
       "      <td>4</td>\n",
       "      <td>964828782</td>\n",
       "      <td>M</td>\n",
       "      <td>25</td>\n",
       "      <td>6</td>\n",
       "      <td>11106</td>\n",
       "    </tr>\n",
       "    <tr>\n",
       "      <th>1000208</th>\n",
       "      <td>3819</td>\n",
       "      <td>Tampopo (1986)</td>\n",
       "      <td>Comedy</td>\n",
       "      <td>6040</td>\n",
       "      <td>5</td>\n",
       "      <td>963272166</td>\n",
       "      <td>M</td>\n",
       "      <td>25</td>\n",
       "      <td>6</td>\n",
       "      <td>11106</td>\n",
       "    </tr>\n",
       "  </tbody>\n",
       "</table>\n",
       "<p>1000209 rows × 10 columns</p>\n",
       "</div>"
      ],
      "text/plain": [
       "         MovieID                                       Title  \\\n",
       "0              1                            Toy Story (1995)   \n",
       "1             48                           Pocahontas (1995)   \n",
       "2            150                            Apollo 13 (1995)   \n",
       "3            260   Star Wars: Episode IV - A New Hope (1977)   \n",
       "4            527                     Schindler's List (1993)   \n",
       "...          ...                                         ...   \n",
       "1000204     3683                         Blood Simple (1984)   \n",
       "1000205     3703  Mad Max 2 (a.k.a. The Road Warrior) (1981)   \n",
       "1000206     3735                              Serpico (1973)   \n",
       "1000207     3751                          Chicken Run (2000)   \n",
       "1000208     3819                              Tampopo (1986)   \n",
       "\n",
       "                                       Genres  UserID  Rating  Timestamp  \\\n",
       "0                 Animation|Children's|Comedy       1       5  978824268   \n",
       "1        Animation|Children's|Musical|Romance       1       5  978824351   \n",
       "2                                       Drama       1       5  978301777   \n",
       "3             Action|Adventure|Fantasy|Sci-Fi       1       4  978300760   \n",
       "4                                   Drama|War       1       5  978824195   \n",
       "...                                       ...     ...     ...        ...   \n",
       "1000204                       Drama|Film-Noir    6040       4  960971696   \n",
       "1000205                         Action|Sci-Fi    6040       4  964828575   \n",
       "1000206                           Crime|Drama    6040       4  960971654   \n",
       "1000207           Animation|Children's|Comedy    6040       4  964828782   \n",
       "1000208                                Comedy    6040       5  963272166   \n",
       "\n",
       "        Gender  Age  Occupation Zip-code  \n",
       "0            F    1          10    48067  \n",
       "1            F    1          10    48067  \n",
       "2            F    1          10    48067  \n",
       "3            F    1          10    48067  \n",
       "4            F    1          10    48067  \n",
       "...        ...  ...         ...      ...  \n",
       "1000204      M   25           6    11106  \n",
       "1000205      M   25           6    11106  \n",
       "1000206      M   25           6    11106  \n",
       "1000207      M   25           6    11106  \n",
       "1000208      M   25           6    11106  \n",
       "\n",
       "[1000209 rows x 10 columns]"
      ]
     },
     "execution_count": 12,
     "metadata": {},
     "output_type": "execute_result"
    }
   ],
   "source": [
    "master_ratings"
   ]
  },
  {
   "cell_type": "code",
   "execution_count": 13,
   "id": "7b203b30",
   "metadata": {
    "scrolled": true
   },
   "outputs": [
    {
     "data": {
      "text/plain": [
       "Text(0.5, 0, \"User's Age\")"
      ]
     },
     "execution_count": 13,
     "metadata": {},
     "output_type": "execute_result"
    },
    {
     "data": {
      "image/png": "[encoded data removed]",
      "text/plain": [
       "<Figure size 432x288 with 1 Axes>"
      ]
     },
     "metadata": {
      "needs_background": "light"
     },
     "output_type": "display_data"
    }
   ],
   "source": [
    "master_ratings[\"Age\"].value_counts().plot.bar()\n",
    "plt.xlabel(\"User's Age\")"
   ]
  },
  {
   "cell_type": "markdown",
   "id": "1fe2780e",
   "metadata": {},
   "source": [
    "# 2.TOY STORY RATINGS"
   ]
  },
  {
   "cell_type": "code",
   "execution_count": 14,
   "id": "7f623965",
   "metadata": {},
   "outputs": [],
   "source": [
    "toy_story_ratings = master_ratings.loc[master_ratings[\"Title\"] == \"Toy Story (1995)\"]  "
   ]
  },
  {
   "cell_type": "code",
   "execution_count": 15,
   "id": "a4ede369",
   "metadata": {},
   "outputs": [
    {
     "name": "stdout",
     "output_type": "stream",
     "text": [
      "Users rating are as follows:\n",
      "\tno of 1 star ratings are 16\n",
      "\tno of 2 star ratings are 61\n",
      "\tno of 3 star ratings are 345\n",
      "\tno of 4 star ratings are 835\n",
      "\tno of 5 star ratings are 820\n",
      "Overall Average rating is 4.15\n"
     ]
    }
   ],
   "source": [
    "rat = toy_story_ratings[\"Rating\"].value_counts()\n",
    "print(\"Users rating are as follows:\")\n",
    "k =int()\n",
    "for i in range(1,6):\n",
    "    print(\"\\tno of {} star ratings are {}\".format(i,rat[i]))\n",
    "    k = k+i*rat[i]\n",
    "print(\"Overall Average rating is %0.2f\" %(k/rat.sum()))"
   ]
  },
  {
   "cell_type": "markdown",
   "id": "859f77d5",
   "metadata": {},
   "source": [
    "# 3.TOP 25 MOVIES BY VIEWERSHIP RATING"
   ]
  },
  {
   "cell_type": "code",
   "execution_count": 16,
   "id": "9be13771",
   "metadata": {},
   "outputs": [],
   "source": [
    "type(master_ratings)\n",
    "titles = set(master_ratings[\"Title\"])\n",
    "titles = list(titles)"
   ]
  },
  {
   "cell_type": "code",
   "execution_count": 17,
   "id": "a9c9bd47",
   "metadata": {},
   "outputs": [],
   "source": [
    "ratings_list = []\n",
    "for i in titles:\n",
    "    title_ratings_list = master_ratings.loc[master_ratings[\"Title\"] == i]\n",
    "    no_of_ratings = title_ratings_list[\"Rating\"].value_counts()\n",
    "    ratings_list.append(no_of_ratings.sum())"
   ]
  },
  {
   "cell_type": "code",
   "execution_count": 18,
   "id": "0bdde4ad",
   "metadata": {},
   "outputs": [],
   "source": [
    "top_movies = pd.DataFrame({\"no.of ratings\":ratings_list,\"movie title\":titles})"
   ]
  },
  {
   "cell_type": "code",
   "execution_count": 19,
   "id": "779ef78d",
   "metadata": {
    "scrolled": true
   },
   "outputs": [
    {
     "data": {
      "text/html": [
       "<div>\n",
       "<style scoped>\n",
       "    .dataframe tbody tr th:only-of-type {\n",
       "        vertical-align: middle;\n",
       "    }\n",
       "\n",
       "    .dataframe tbody tr th {\n",
       "        vertical-align: top;\n",
       "    }\n",
       "\n",
       "    .dataframe thead th {\n",
       "        text-align: right;\n",
       "    }\n",
       "</style>\n",
       "<table border=\"1\" class=\"dataframe\">\n",
       "  <thead>\n",
       "    <tr style=\"text-align: right;\">\n",
       "      <th></th>\n",
       "      <th>no.of ratings</th>\n",
       "      <th>movie title</th>\n",
       "    </tr>\n",
       "  </thead>\n",
       "  <tbody>\n",
       "    <tr>\n",
       "      <th>0</th>\n",
       "      <td>664</td>\n",
       "      <td>Jungle Book, The (1967)</td>\n",
       "    </tr>\n",
       "    <tr>\n",
       "      <th>1</th>\n",
       "      <td>626</td>\n",
       "      <td>Out of Africa (1985)</td>\n",
       "    </tr>\n",
       "    <tr>\n",
       "      <th>2</th>\n",
       "      <td>33</td>\n",
       "      <td>Once Upon a Time... When We Were Colored (1995)</td>\n",
       "    </tr>\n",
       "    <tr>\n",
       "      <th>3</th>\n",
       "      <td>13</td>\n",
       "      <td>Whatever Happened to Aunt Alice? (1969)</td>\n",
       "    </tr>\n",
       "    <tr>\n",
       "      <th>4</th>\n",
       "      <td>112</td>\n",
       "      <td>Air Bud (1997)</td>\n",
       "    </tr>\n",
       "    <tr>\n",
       "      <th>...</th>\n",
       "      <td>...</td>\n",
       "      <td>...</td>\n",
       "    </tr>\n",
       "    <tr>\n",
       "      <th>3701</th>\n",
       "      <td>206</td>\n",
       "      <td>Attack of the Killer Tomatoes! (1980)</td>\n",
       "    </tr>\n",
       "    <tr>\n",
       "      <th>3702</th>\n",
       "      <td>139</td>\n",
       "      <td>Poison Ivy (1992)</td>\n",
       "    </tr>\n",
       "    <tr>\n",
       "      <th>3703</th>\n",
       "      <td>426</td>\n",
       "      <td>Spartacus (1960)</td>\n",
       "    </tr>\n",
       "    <tr>\n",
       "      <th>3704</th>\n",
       "      <td>461</td>\n",
       "      <td>Key Largo (1948)</td>\n",
       "    </tr>\n",
       "    <tr>\n",
       "      <th>3705</th>\n",
       "      <td>645</td>\n",
       "      <td>Antz (1998)</td>\n",
       "    </tr>\n",
       "  </tbody>\n",
       "</table>\n",
       "<p>3706 rows × 2 columns</p>\n",
       "</div>"
      ],
      "text/plain": [
       "      no.of ratings                                      movie title\n",
       "0               664                          Jungle Book, The (1967)\n",
       "1               626                             Out of Africa (1985)\n",
       "2                33  Once Upon a Time... When We Were Colored (1995)\n",
       "3                13          Whatever Happened to Aunt Alice? (1969)\n",
       "4               112                                   Air Bud (1997)\n",
       "...             ...                                              ...\n",
       "3701            206            Attack of the Killer Tomatoes! (1980)\n",
       "3702            139                                Poison Ivy (1992)\n",
       "3703            426                                 Spartacus (1960)\n",
       "3704            461                                 Key Largo (1948)\n",
       "3705            645                                      Antz (1998)\n",
       "\n",
       "[3706 rows x 2 columns]"
      ]
     },
     "execution_count": 19,
     "metadata": {},
     "output_type": "execute_result"
    }
   ],
   "source": [
    "top_movies"
   ]
  },
  {
   "cell_type": "code",
   "execution_count": 20,
   "id": "1c001515",
   "metadata": {},
   "outputs": [],
   "source": [
    "top_movies.sort_values(\"no.of ratings\",ascending = False,inplace = True)"
   ]
  },
  {
   "cell_type": "code",
   "execution_count": 21,
   "id": "e3cfe124",
   "metadata": {},
   "outputs": [
    {
     "name": "stdout",
     "output_type": "stream",
     "text": [
      "Top 25 Movies with most ratings from viewers\n"
     ]
    },
    {
     "data": {
      "text/html": [
       "<div>\n",
       "<style scoped>\n",
       "    .dataframe tbody tr th:only-of-type {\n",
       "        vertical-align: middle;\n",
       "    }\n",
       "\n",
       "    .dataframe tbody tr th {\n",
       "        vertical-align: top;\n",
       "    }\n",
       "\n",
       "    .dataframe thead th {\n",
       "        text-align: right;\n",
       "    }\n",
       "</style>\n",
       "<table border=\"1\" class=\"dataframe\">\n",
       "  <thead>\n",
       "    <tr style=\"text-align: right;\">\n",
       "      <th></th>\n",
       "      <th>no.of ratings</th>\n",
       "      <th>movie title</th>\n",
       "    </tr>\n",
       "  </thead>\n",
       "  <tbody>\n",
       "    <tr>\n",
       "      <th>478</th>\n",
       "      <td>3428</td>\n",
       "      <td>American Beauty (1999)</td>\n",
       "    </tr>\n",
       "    <tr>\n",
       "      <th>1353</th>\n",
       "      <td>2991</td>\n",
       "      <td>Star Wars: Episode IV - A New Hope (1977)</td>\n",
       "    </tr>\n",
       "    <tr>\n",
       "      <th>1818</th>\n",
       "      <td>2990</td>\n",
       "      <td>Star Wars: Episode V - The Empire Strikes Back...</td>\n",
       "    </tr>\n",
       "    <tr>\n",
       "      <th>3253</th>\n",
       "      <td>2883</td>\n",
       "      <td>Star Wars: Episode VI - Return of the Jedi (1983)</td>\n",
       "    </tr>\n",
       "    <tr>\n",
       "      <th>1846</th>\n",
       "      <td>2672</td>\n",
       "      <td>Jurassic Park (1993)</td>\n",
       "    </tr>\n",
       "    <tr>\n",
       "      <th>3417</th>\n",
       "      <td>2653</td>\n",
       "      <td>Saving Private Ryan (1998)</td>\n",
       "    </tr>\n",
       "    <tr>\n",
       "      <th>413</th>\n",
       "      <td>2649</td>\n",
       "      <td>Terminator 2: Judgment Day (1991)</td>\n",
       "    </tr>\n",
       "    <tr>\n",
       "      <th>429</th>\n",
       "      <td>2590</td>\n",
       "      <td>Matrix, The (1999)</td>\n",
       "    </tr>\n",
       "    <tr>\n",
       "      <th>3351</th>\n",
       "      <td>2583</td>\n",
       "      <td>Back to the Future (1985)</td>\n",
       "    </tr>\n",
       "    <tr>\n",
       "      <th>2166</th>\n",
       "      <td>2578</td>\n",
       "      <td>Silence of the Lambs, The (1991)</td>\n",
       "    </tr>\n",
       "    <tr>\n",
       "      <th>2501</th>\n",
       "      <td>2538</td>\n",
       "      <td>Men in Black (1997)</td>\n",
       "    </tr>\n",
       "    <tr>\n",
       "      <th>2421</th>\n",
       "      <td>2514</td>\n",
       "      <td>Raiders of the Lost Ark (1981)</td>\n",
       "    </tr>\n",
       "    <tr>\n",
       "      <th>3627</th>\n",
       "      <td>2513</td>\n",
       "      <td>Fargo (1996)</td>\n",
       "    </tr>\n",
       "    <tr>\n",
       "      <th>1639</th>\n",
       "      <td>2459</td>\n",
       "      <td>Sixth Sense, The (1999)</td>\n",
       "    </tr>\n",
       "    <tr>\n",
       "      <th>3147</th>\n",
       "      <td>2443</td>\n",
       "      <td>Braveheart (1995)</td>\n",
       "    </tr>\n",
       "    <tr>\n",
       "      <th>2707</th>\n",
       "      <td>2369</td>\n",
       "      <td>Shakespeare in Love (1998)</td>\n",
       "    </tr>\n",
       "    <tr>\n",
       "      <th>2074</th>\n",
       "      <td>2318</td>\n",
       "      <td>Princess Bride, The (1987)</td>\n",
       "    </tr>\n",
       "    <tr>\n",
       "      <th>513</th>\n",
       "      <td>2304</td>\n",
       "      <td>Schindler's List (1993)</td>\n",
       "    </tr>\n",
       "    <tr>\n",
       "      <th>3379</th>\n",
       "      <td>2288</td>\n",
       "      <td>L.A. Confidential (1997)</td>\n",
       "    </tr>\n",
       "    <tr>\n",
       "      <th>2725</th>\n",
       "      <td>2278</td>\n",
       "      <td>Groundhog Day (1993)</td>\n",
       "    </tr>\n",
       "    <tr>\n",
       "      <th>2298</th>\n",
       "      <td>2269</td>\n",
       "      <td>E.T. the Extra-Terrestrial (1982)</td>\n",
       "    </tr>\n",
       "    <tr>\n",
       "      <th>2583</th>\n",
       "      <td>2250</td>\n",
       "      <td>Star Wars: Episode I - The Phantom Menace (1999)</td>\n",
       "    </tr>\n",
       "    <tr>\n",
       "      <th>2702</th>\n",
       "      <td>2241</td>\n",
       "      <td>Being John Malkovich (1999)</td>\n",
       "    </tr>\n",
       "    <tr>\n",
       "      <th>1056</th>\n",
       "      <td>2227</td>\n",
       "      <td>Shawshank Redemption, The (1994)</td>\n",
       "    </tr>\n",
       "    <tr>\n",
       "      <th>2096</th>\n",
       "      <td>2223</td>\n",
       "      <td>Godfather, The (1972)</td>\n",
       "    </tr>\n",
       "  </tbody>\n",
       "</table>\n",
       "</div>"
      ],
      "text/plain": [
       "      no.of ratings                                        movie title\n",
       "478            3428                             American Beauty (1999)\n",
       "1353           2991          Star Wars: Episode IV - A New Hope (1977)\n",
       "1818           2990  Star Wars: Episode V - The Empire Strikes Back...\n",
       "3253           2883  Star Wars: Episode VI - Return of the Jedi (1983)\n",
       "1846           2672                               Jurassic Park (1993)\n",
       "3417           2653                         Saving Private Ryan (1998)\n",
       "413            2649                  Terminator 2: Judgment Day (1991)\n",
       "429            2590                                 Matrix, The (1999)\n",
       "3351           2583                          Back to the Future (1985)\n",
       "2166           2578                   Silence of the Lambs, The (1991)\n",
       "2501           2538                                Men in Black (1997)\n",
       "2421           2514                     Raiders of the Lost Ark (1981)\n",
       "3627           2513                                       Fargo (1996)\n",
       "1639           2459                            Sixth Sense, The (1999)\n",
       "3147           2443                                  Braveheart (1995)\n",
       "2707           2369                         Shakespeare in Love (1998)\n",
       "2074           2318                         Princess Bride, The (1987)\n",
       "513            2304                            Schindler's List (1993)\n",
       "3379           2288                           L.A. Confidential (1997)\n",
       "2725           2278                               Groundhog Day (1993)\n",
       "2298           2269                  E.T. the Extra-Terrestrial (1982)\n",
       "2583           2250   Star Wars: Episode I - The Phantom Menace (1999)\n",
       "2702           2241                        Being John Malkovich (1999)\n",
       "1056           2227                   Shawshank Redemption, The (1994)\n",
       "2096           2223                              Godfather, The (1972)"
      ]
     },
     "execution_count": 21,
     "metadata": {},
     "output_type": "execute_result"
    }
   ],
   "source": [
    "print(\"Top 25 Movies with most ratings from viewers\")\n",
    "top_movies.head(25)"
   ]
  },
  {
   "cell_type": "markdown",
   "id": "54b90614",
   "metadata": {},
   "source": [
    "# 4.Ratings by user id 2696"
   ]
  },
  {
   "cell_type": "code",
   "execution_count": 22,
   "id": "7eba9e6c",
   "metadata": {},
   "outputs": [],
   "source": [
    "ratings_by_2696 = master_ratings.loc[master_ratings[\"UserID\"] == 2696] "
   ]
  },
  {
   "cell_type": "code",
   "execution_count": 23,
   "id": "b23fd7de",
   "metadata": {
    "scrolled": true
   },
   "outputs": [
    {
     "data": {
      "text/html": [
       "<div>\n",
       "<style scoped>\n",
       "    .dataframe tbody tr th:only-of-type {\n",
       "        vertical-align: middle;\n",
       "    }\n",
       "\n",
       "    .dataframe tbody tr th {\n",
       "        vertical-align: top;\n",
       "    }\n",
       "\n",
       "    .dataframe thead th {\n",
       "        text-align: right;\n",
       "    }\n",
       "</style>\n",
       "<table border=\"1\" class=\"dataframe\">\n",
       "  <thead>\n",
       "    <tr style=\"text-align: right;\">\n",
       "      <th></th>\n",
       "      <th>MovieID</th>\n",
       "      <th>Title</th>\n",
       "      <th>Genres</th>\n",
       "      <th>UserID</th>\n",
       "      <th>Rating</th>\n",
       "      <th>Timestamp</th>\n",
       "      <th>Gender</th>\n",
       "      <th>Age</th>\n",
       "      <th>Occupation</th>\n",
       "      <th>Zip-code</th>\n",
       "    </tr>\n",
       "  </thead>\n",
       "  <tbody>\n",
       "    <tr>\n",
       "      <th>440667</th>\n",
       "      <td>350</td>\n",
       "      <td>Client, The (1994)</td>\n",
       "      <td>Drama|Mystery|Thriller</td>\n",
       "      <td>2696</td>\n",
       "      <td>3</td>\n",
       "      <td>973308886</td>\n",
       "      <td>M</td>\n",
       "      <td>25</td>\n",
       "      <td>7</td>\n",
       "      <td>24210</td>\n",
       "    </tr>\n",
       "    <tr>\n",
       "      <th>440668</th>\n",
       "      <td>800</td>\n",
       "      <td>Lone Star (1996)</td>\n",
       "      <td>Drama|Mystery</td>\n",
       "      <td>2696</td>\n",
       "      <td>5</td>\n",
       "      <td>973308842</td>\n",
       "      <td>M</td>\n",
       "      <td>25</td>\n",
       "      <td>7</td>\n",
       "      <td>24210</td>\n",
       "    </tr>\n",
       "    <tr>\n",
       "      <th>440669</th>\n",
       "      <td>1092</td>\n",
       "      <td>Basic Instinct (1992)</td>\n",
       "      <td>Mystery|Thriller</td>\n",
       "      <td>2696</td>\n",
       "      <td>4</td>\n",
       "      <td>973308886</td>\n",
       "      <td>M</td>\n",
       "      <td>25</td>\n",
       "      <td>7</td>\n",
       "      <td>24210</td>\n",
       "    </tr>\n",
       "    <tr>\n",
       "      <th>440670</th>\n",
       "      <td>1097</td>\n",
       "      <td>E.T. the Extra-Terrestrial (1982)</td>\n",
       "      <td>Children's|Drama|Fantasy|Sci-Fi</td>\n",
       "      <td>2696</td>\n",
       "      <td>3</td>\n",
       "      <td>973308690</td>\n",
       "      <td>M</td>\n",
       "      <td>25</td>\n",
       "      <td>7</td>\n",
       "      <td>24210</td>\n",
       "    </tr>\n",
       "    <tr>\n",
       "      <th>440671</th>\n",
       "      <td>1258</td>\n",
       "      <td>Shining, The (1980)</td>\n",
       "      <td>Horror</td>\n",
       "      <td>2696</td>\n",
       "      <td>4</td>\n",
       "      <td>973308710</td>\n",
       "      <td>M</td>\n",
       "      <td>25</td>\n",
       "      <td>7</td>\n",
       "      <td>24210</td>\n",
       "    </tr>\n",
       "    <tr>\n",
       "      <th>440672</th>\n",
       "      <td>1270</td>\n",
       "      <td>Back to the Future (1985)</td>\n",
       "      <td>Comedy|Sci-Fi</td>\n",
       "      <td>2696</td>\n",
       "      <td>2</td>\n",
       "      <td>973308676</td>\n",
       "      <td>M</td>\n",
       "      <td>25</td>\n",
       "      <td>7</td>\n",
       "      <td>24210</td>\n",
       "    </tr>\n",
       "    <tr>\n",
       "      <th>440673</th>\n",
       "      <td>1589</td>\n",
       "      <td>Cop Land (1997)</td>\n",
       "      <td>Crime|Drama|Mystery</td>\n",
       "      <td>2696</td>\n",
       "      <td>3</td>\n",
       "      <td>973308865</td>\n",
       "      <td>M</td>\n",
       "      <td>25</td>\n",
       "      <td>7</td>\n",
       "      <td>24210</td>\n",
       "    </tr>\n",
       "    <tr>\n",
       "      <th>440674</th>\n",
       "      <td>1617</td>\n",
       "      <td>L.A. Confidential (1997)</td>\n",
       "      <td>Crime|Film-Noir|Mystery|Thriller</td>\n",
       "      <td>2696</td>\n",
       "      <td>4</td>\n",
       "      <td>973308842</td>\n",
       "      <td>M</td>\n",
       "      <td>25</td>\n",
       "      <td>7</td>\n",
       "      <td>24210</td>\n",
       "    </tr>\n",
       "    <tr>\n",
       "      <th>440675</th>\n",
       "      <td>1625</td>\n",
       "      <td>Game, The (1997)</td>\n",
       "      <td>Mystery|Thriller</td>\n",
       "      <td>2696</td>\n",
       "      <td>4</td>\n",
       "      <td>973308842</td>\n",
       "      <td>M</td>\n",
       "      <td>25</td>\n",
       "      <td>7</td>\n",
       "      <td>24210</td>\n",
       "    </tr>\n",
       "    <tr>\n",
       "      <th>440676</th>\n",
       "      <td>1644</td>\n",
       "      <td>I Know What You Did Last Summer (1997)</td>\n",
       "      <td>Horror|Mystery|Thriller</td>\n",
       "      <td>2696</td>\n",
       "      <td>2</td>\n",
       "      <td>973308920</td>\n",
       "      <td>M</td>\n",
       "      <td>25</td>\n",
       "      <td>7</td>\n",
       "      <td>24210</td>\n",
       "    </tr>\n",
       "    <tr>\n",
       "      <th>440677</th>\n",
       "      <td>1645</td>\n",
       "      <td>Devil's Advocate, The (1997)</td>\n",
       "      <td>Crime|Horror|Mystery|Thriller</td>\n",
       "      <td>2696</td>\n",
       "      <td>4</td>\n",
       "      <td>973308904</td>\n",
       "      <td>M</td>\n",
       "      <td>25</td>\n",
       "      <td>7</td>\n",
       "      <td>24210</td>\n",
       "    </tr>\n",
       "    <tr>\n",
       "      <th>440678</th>\n",
       "      <td>1711</td>\n",
       "      <td>Midnight in the Garden of Good and Evil (1997)</td>\n",
       "      <td>Comedy|Crime|Drama|Mystery</td>\n",
       "      <td>2696</td>\n",
       "      <td>4</td>\n",
       "      <td>973308904</td>\n",
       "      <td>M</td>\n",
       "      <td>25</td>\n",
       "      <td>7</td>\n",
       "      <td>24210</td>\n",
       "    </tr>\n",
       "    <tr>\n",
       "      <th>440679</th>\n",
       "      <td>1783</td>\n",
       "      <td>Palmetto (1998)</td>\n",
       "      <td>Film-Noir|Mystery|Thriller</td>\n",
       "      <td>2696</td>\n",
       "      <td>4</td>\n",
       "      <td>973308865</td>\n",
       "      <td>M</td>\n",
       "      <td>25</td>\n",
       "      <td>7</td>\n",
       "      <td>24210</td>\n",
       "    </tr>\n",
       "    <tr>\n",
       "      <th>440680</th>\n",
       "      <td>1805</td>\n",
       "      <td>Wild Things (1998)</td>\n",
       "      <td>Crime|Drama|Mystery|Thriller</td>\n",
       "      <td>2696</td>\n",
       "      <td>4</td>\n",
       "      <td>973308886</td>\n",
       "      <td>M</td>\n",
       "      <td>25</td>\n",
       "      <td>7</td>\n",
       "      <td>24210</td>\n",
       "    </tr>\n",
       "    <tr>\n",
       "      <th>440681</th>\n",
       "      <td>1892</td>\n",
       "      <td>Perfect Murder, A (1998)</td>\n",
       "      <td>Mystery|Thriller</td>\n",
       "      <td>2696</td>\n",
       "      <td>4</td>\n",
       "      <td>973308904</td>\n",
       "      <td>M</td>\n",
       "      <td>25</td>\n",
       "      <td>7</td>\n",
       "      <td>24210</td>\n",
       "    </tr>\n",
       "    <tr>\n",
       "      <th>440682</th>\n",
       "      <td>2338</td>\n",
       "      <td>I Still Know What You Did Last Summer (1998)</td>\n",
       "      <td>Horror|Mystery|Thriller</td>\n",
       "      <td>2696</td>\n",
       "      <td>2</td>\n",
       "      <td>973308920</td>\n",
       "      <td>M</td>\n",
       "      <td>25</td>\n",
       "      <td>7</td>\n",
       "      <td>24210</td>\n",
       "    </tr>\n",
       "    <tr>\n",
       "      <th>440683</th>\n",
       "      <td>2389</td>\n",
       "      <td>Psycho (1998)</td>\n",
       "      <td>Crime|Horror|Thriller</td>\n",
       "      <td>2696</td>\n",
       "      <td>4</td>\n",
       "      <td>973308710</td>\n",
       "      <td>M</td>\n",
       "      <td>25</td>\n",
       "      <td>7</td>\n",
       "      <td>24210</td>\n",
       "    </tr>\n",
       "    <tr>\n",
       "      <th>440684</th>\n",
       "      <td>2713</td>\n",
       "      <td>Lake Placid (1999)</td>\n",
       "      <td>Horror|Thriller</td>\n",
       "      <td>2696</td>\n",
       "      <td>1</td>\n",
       "      <td>973308710</td>\n",
       "      <td>M</td>\n",
       "      <td>25</td>\n",
       "      <td>7</td>\n",
       "      <td>24210</td>\n",
       "    </tr>\n",
       "    <tr>\n",
       "      <th>440685</th>\n",
       "      <td>3176</td>\n",
       "      <td>Talented Mr. Ripley, The (1999)</td>\n",
       "      <td>Drama|Mystery|Thriller</td>\n",
       "      <td>2696</td>\n",
       "      <td>4</td>\n",
       "      <td>973308865</td>\n",
       "      <td>M</td>\n",
       "      <td>25</td>\n",
       "      <td>7</td>\n",
       "      <td>24210</td>\n",
       "    </tr>\n",
       "    <tr>\n",
       "      <th>440686</th>\n",
       "      <td>3386</td>\n",
       "      <td>JFK (1991)</td>\n",
       "      <td>Drama|Mystery</td>\n",
       "      <td>2696</td>\n",
       "      <td>1</td>\n",
       "      <td>973308842</td>\n",
       "      <td>M</td>\n",
       "      <td>25</td>\n",
       "      <td>7</td>\n",
       "      <td>24210</td>\n",
       "    </tr>\n",
       "  </tbody>\n",
       "</table>\n",
       "</div>"
      ],
      "text/plain": [
       "        MovieID                                           Title  \\\n",
       "440667      350                              Client, The (1994)   \n",
       "440668      800                                Lone Star (1996)   \n",
       "440669     1092                           Basic Instinct (1992)   \n",
       "440670     1097               E.T. the Extra-Terrestrial (1982)   \n",
       "440671     1258                             Shining, The (1980)   \n",
       "440672     1270                       Back to the Future (1985)   \n",
       "440673     1589                                 Cop Land (1997)   \n",
       "440674     1617                        L.A. Confidential (1997)   \n",
       "440675     1625                                Game, The (1997)   \n",
       "440676     1644          I Know What You Did Last Summer (1997)   \n",
       "440677     1645                    Devil's Advocate, The (1997)   \n",
       "440678     1711  Midnight in the Garden of Good and Evil (1997)   \n",
       "440679     1783                                 Palmetto (1998)   \n",
       "440680     1805                              Wild Things (1998)   \n",
       "440681     1892                        Perfect Murder, A (1998)   \n",
       "440682     2338    I Still Know What You Did Last Summer (1998)   \n",
       "440683     2389                                   Psycho (1998)   \n",
       "440684     2713                              Lake Placid (1999)   \n",
       "440685     3176                 Talented Mr. Ripley, The (1999)   \n",
       "440686     3386                                      JFK (1991)   \n",
       "\n",
       "                                  Genres  UserID  Rating  Timestamp Gender  \\\n",
       "440667            Drama|Mystery|Thriller    2696       3  973308886      M   \n",
       "440668                     Drama|Mystery    2696       5  973308842      M   \n",
       "440669                  Mystery|Thriller    2696       4  973308886      M   \n",
       "440670   Children's|Drama|Fantasy|Sci-Fi    2696       3  973308690      M   \n",
       "440671                            Horror    2696       4  973308710      M   \n",
       "440672                     Comedy|Sci-Fi    2696       2  973308676      M   \n",
       "440673               Crime|Drama|Mystery    2696       3  973308865      M   \n",
       "440674  Crime|Film-Noir|Mystery|Thriller    2696       4  973308842      M   \n",
       "440675                  Mystery|Thriller    2696       4  973308842      M   \n",
       "440676           Horror|Mystery|Thriller    2696       2  973308920      M   \n",
       "440677     Crime|Horror|Mystery|Thriller    2696       4  973308904      M   \n",
       "440678        Comedy|Crime|Drama|Mystery    2696       4  973308904      M   \n",
       "440679        Film-Noir|Mystery|Thriller    2696       4  973308865      M   \n",
       "440680      Crime|Drama|Mystery|Thriller    2696       4  973308886      M   \n",
       "440681                  Mystery|Thriller    2696       4  973308904      M   \n",
       "440682           Horror|Mystery|Thriller    2696       2  973308920      M   \n",
       "440683             Crime|Horror|Thriller    2696       4  973308710      M   \n",
       "440684                   Horror|Thriller    2696       1  973308710      M   \n",
       "440685            Drama|Mystery|Thriller    2696       4  973308865      M   \n",
       "440686                     Drama|Mystery    2696       1  973308842      M   \n",
       "\n",
       "        Age  Occupation Zip-code  \n",
       "440667   25           7    24210  \n",
       "440668   25           7    24210  \n",
       "440669   25           7    24210  \n",
       "440670   25           7    24210  \n",
       "440671   25           7    24210  \n",
       "440672   25           7    24210  \n",
       "440673   25           7    24210  \n",
       "440674   25           7    24210  \n",
       "440675   25           7    24210  \n",
       "440676   25           7    24210  \n",
       "440677   25           7    24210  \n",
       "440678   25           7    24210  \n",
       "440679   25           7    24210  \n",
       "440680   25           7    24210  \n",
       "440681   25           7    24210  \n",
       "440682   25           7    24210  \n",
       "440683   25           7    24210  \n",
       "440684   25           7    24210  \n",
       "440685   25           7    24210  \n",
       "440686   25           7    24210  "
      ]
     },
     "execution_count": 23,
     "metadata": {},
     "output_type": "execute_result"
    }
   ],
   "source": [
    "ratings_by_2696"
   ]
  },
  {
   "cell_type": "markdown",
   "id": "fb746792",
   "metadata": {},
   "source": [
    "# 5. genres"
   ]
  },
  {
   "cell_type": "code",
   "execution_count": 24,
   "id": "419cfb3f",
   "metadata": {},
   "outputs": [],
   "source": [
    "genres = list(master_ratings[\"Genres\"])\n",
    "genres_list = []\n",
    "for i in range(len(genres)):\n",
    "    k = genres[i].split(\"|\")\n",
    "    for i in k:\n",
    "        genres_list.append(i)"
   ]
  },
  {
   "cell_type": "code",
   "execution_count": 25,
   "id": "4a057f14",
   "metadata": {
    "scrolled": true
   },
   "outputs": [
    {
     "name": "stdout",
     "output_type": "stream",
     "text": [
      "Unique Categories of genres are : {'Drama', 'War', \"Children's\", 'Musical', 'Animation', 'Action', 'Comedy', 'Crime', 'Documentary', 'Sci-Fi', 'Fantasy', 'Mystery', 'Romance', 'Western', 'Horror', 'Thriller', 'Film-Noir', 'Adventure'}\n"
     ]
    }
   ],
   "source": [
    "genres_list = set(genres_list)\n",
    "print(\"Unique Categories of genres are :\",genres_list)"
   ]
  },
  {
   "cell_type": "markdown",
   "id": "fdc474dd",
   "metadata": {},
   "source": [
    "# 6.one hot encoding for genres"
   ]
  },
  {
   "cell_type": "code",
   "execution_count": 26,
   "id": "577e4418",
   "metadata": {},
   "outputs": [],
   "source": [
    "ohe_df =pd.DataFrame(master_ratings.iloc[:,2])\n",
    "ohe_df\n",
    "for i in genres_list:\n",
    "    ohe_df[i] = ohe_df[\"Genres\"].str.contains(i)*1"
   ]
  },
  {
   "cell_type": "code",
   "execution_count": 27,
   "id": "2671b5e8",
   "metadata": {},
   "outputs": [
    {
     "data": {
      "text/html": [
       "<div>\n",
       "<style scoped>\n",
       "    .dataframe tbody tr th:only-of-type {\n",
       "        vertical-align: middle;\n",
       "    }\n",
       "\n",
       "    .dataframe tbody tr th {\n",
       "        vertical-align: top;\n",
       "    }\n",
       "\n",
       "    .dataframe thead th {\n",
       "        text-align: right;\n",
       "    }\n",
       "</style>\n",
       "<table border=\"1\" class=\"dataframe\">\n",
       "  <thead>\n",
       "    <tr style=\"text-align: right;\">\n",
       "      <th></th>\n",
       "      <th>Genres</th>\n",
       "      <th>Drama</th>\n",
       "      <th>War</th>\n",
       "      <th>Children's</th>\n",
       "      <th>Musical</th>\n",
       "      <th>Animation</th>\n",
       "      <th>Action</th>\n",
       "      <th>Comedy</th>\n",
       "      <th>Crime</th>\n",
       "      <th>Documentary</th>\n",
       "      <th>Sci-Fi</th>\n",
       "      <th>Fantasy</th>\n",
       "      <th>Mystery</th>\n",
       "      <th>Romance</th>\n",
       "      <th>Western</th>\n",
       "      <th>Horror</th>\n",
       "      <th>Thriller</th>\n",
       "      <th>Film-Noir</th>\n",
       "      <th>Adventure</th>\n",
       "    </tr>\n",
       "  </thead>\n",
       "  <tbody>\n",
       "    <tr>\n",
       "      <th>0</th>\n",
       "      <td>Animation|Children's|Comedy</td>\n",
       "      <td>0</td>\n",
       "      <td>0</td>\n",
       "      <td>1</td>\n",
       "      <td>0</td>\n",
       "      <td>1</td>\n",
       "      <td>0</td>\n",
       "      <td>1</td>\n",
       "      <td>0</td>\n",
       "      <td>0</td>\n",
       "      <td>0</td>\n",
       "      <td>0</td>\n",
       "      <td>0</td>\n",
       "      <td>0</td>\n",
       "      <td>0</td>\n",
       "      <td>0</td>\n",
       "      <td>0</td>\n",
       "      <td>0</td>\n",
       "      <td>0</td>\n",
       "    </tr>\n",
       "    <tr>\n",
       "      <th>1</th>\n",
       "      <td>Animation|Children's|Musical|Romance</td>\n",
       "      <td>0</td>\n",
       "      <td>0</td>\n",
       "      <td>1</td>\n",
       "      <td>1</td>\n",
       "      <td>1</td>\n",
       "      <td>0</td>\n",
       "      <td>0</td>\n",
       "      <td>0</td>\n",
       "      <td>0</td>\n",
       "      <td>0</td>\n",
       "      <td>0</td>\n",
       "      <td>0</td>\n",
       "      <td>1</td>\n",
       "      <td>0</td>\n",
       "      <td>0</td>\n",
       "      <td>0</td>\n",
       "      <td>0</td>\n",
       "      <td>0</td>\n",
       "    </tr>\n",
       "    <tr>\n",
       "      <th>2</th>\n",
       "      <td>Drama</td>\n",
       "      <td>1</td>\n",
       "      <td>0</td>\n",
       "      <td>0</td>\n",
       "      <td>0</td>\n",
       "      <td>0</td>\n",
       "      <td>0</td>\n",
       "      <td>0</td>\n",
       "      <td>0</td>\n",
       "      <td>0</td>\n",
       "      <td>0</td>\n",
       "      <td>0</td>\n",
       "      <td>0</td>\n",
       "      <td>0</td>\n",
       "      <td>0</td>\n",
       "      <td>0</td>\n",
       "      <td>0</td>\n",
       "      <td>0</td>\n",
       "      <td>0</td>\n",
       "    </tr>\n",
       "    <tr>\n",
       "      <th>3</th>\n",
       "      <td>Action|Adventure|Fantasy|Sci-Fi</td>\n",
       "      <td>0</td>\n",
       "      <td>0</td>\n",
       "      <td>0</td>\n",
       "      <td>0</td>\n",
       "      <td>0</td>\n",
       "      <td>1</td>\n",
       "      <td>0</td>\n",
       "      <td>0</td>\n",
       "      <td>0</td>\n",
       "      <td>1</td>\n",
       "      <td>1</td>\n",
       "      <td>0</td>\n",
       "      <td>0</td>\n",
       "      <td>0</td>\n",
       "      <td>0</td>\n",
       "      <td>0</td>\n",
       "      <td>0</td>\n",
       "      <td>1</td>\n",
       "    </tr>\n",
       "    <tr>\n",
       "      <th>4</th>\n",
       "      <td>Drama|War</td>\n",
       "      <td>1</td>\n",
       "      <td>1</td>\n",
       "      <td>0</td>\n",
       "      <td>0</td>\n",
       "      <td>0</td>\n",
       "      <td>0</td>\n",
       "      <td>0</td>\n",
       "      <td>0</td>\n",
       "      <td>0</td>\n",
       "      <td>0</td>\n",
       "      <td>0</td>\n",
       "      <td>0</td>\n",
       "      <td>0</td>\n",
       "      <td>0</td>\n",
       "      <td>0</td>\n",
       "      <td>0</td>\n",
       "      <td>0</td>\n",
       "      <td>0</td>\n",
       "    </tr>\n",
       "    <tr>\n",
       "      <th>...</th>\n",
       "      <td>...</td>\n",
       "      <td>...</td>\n",
       "      <td>...</td>\n",
       "      <td>...</td>\n",
       "      <td>...</td>\n",
       "      <td>...</td>\n",
       "      <td>...</td>\n",
       "      <td>...</td>\n",
       "      <td>...</td>\n",
       "      <td>...</td>\n",
       "      <td>...</td>\n",
       "      <td>...</td>\n",
       "      <td>...</td>\n",
       "      <td>...</td>\n",
       "      <td>...</td>\n",
       "      <td>...</td>\n",
       "      <td>...</td>\n",
       "      <td>...</td>\n",
       "      <td>...</td>\n",
       "    </tr>\n",
       "    <tr>\n",
       "      <th>1000204</th>\n",
       "      <td>Drama|Film-Noir</td>\n",
       "      <td>1</td>\n",
       "      <td>0</td>\n",
       "      <td>0</td>\n",
       "      <td>0</td>\n",
       "      <td>0</td>\n",
       "      <td>0</td>\n",
       "      <td>0</td>\n",
       "      <td>0</td>\n",
       "      <td>0</td>\n",
       "      <td>0</td>\n",
       "      <td>0</td>\n",
       "      <td>0</td>\n",
       "      <td>0</td>\n",
       "      <td>0</td>\n",
       "      <td>0</td>\n",
       "      <td>0</td>\n",
       "      <td>1</td>\n",
       "      <td>0</td>\n",
       "    </tr>\n",
       "    <tr>\n",
       "      <th>1000205</th>\n",
       "      <td>Action|Sci-Fi</td>\n",
       "      <td>0</td>\n",
       "      <td>0</td>\n",
       "      <td>0</td>\n",
       "      <td>0</td>\n",
       "      <td>0</td>\n",
       "      <td>1</td>\n",
       "      <td>0</td>\n",
       "      <td>0</td>\n",
       "      <td>0</td>\n",
       "      <td>1</td>\n",
       "      <td>0</td>\n",
       "      <td>0</td>\n",
       "      <td>0</td>\n",
       "      <td>0</td>\n",
       "      <td>0</td>\n",
       "      <td>0</td>\n",
       "      <td>0</td>\n",
       "      <td>0</td>\n",
       "    </tr>\n",
       "    <tr>\n",
       "      <th>1000206</th>\n",
       "      <td>Crime|Drama</td>\n",
       "      <td>1</td>\n",
       "      <td>0</td>\n",
       "      <td>0</td>\n",
       "      <td>0</td>\n",
       "      <td>0</td>\n",
       "      <td>0</td>\n",
       "      <td>0</td>\n",
       "      <td>1</td>\n",
       "      <td>0</td>\n",
       "      <td>0</td>\n",
       "      <td>0</td>\n",
       "      <td>0</td>\n",
       "      <td>0</td>\n",
       "      <td>0</td>\n",
       "      <td>0</td>\n",
       "      <td>0</td>\n",
       "      <td>0</td>\n",
       "      <td>0</td>\n",
       "    </tr>\n",
       "    <tr>\n",
       "      <th>1000207</th>\n",
       "      <td>Animation|Children's|Comedy</td>\n",
       "      <td>0</td>\n",
       "      <td>0</td>\n",
       "      <td>1</td>\n",
       "      <td>0</td>\n",
       "      <td>1</td>\n",
       "      <td>0</td>\n",
       "      <td>1</td>\n",
       "      <td>0</td>\n",
       "      <td>0</td>\n",
       "      <td>0</td>\n",
       "      <td>0</td>\n",
       "      <td>0</td>\n",
       "      <td>0</td>\n",
       "      <td>0</td>\n",
       "      <td>0</td>\n",
       "      <td>0</td>\n",
       "      <td>0</td>\n",
       "      <td>0</td>\n",
       "    </tr>\n",
       "    <tr>\n",
       "      <th>1000208</th>\n",
       "      <td>Comedy</td>\n",
       "      <td>0</td>\n",
       "      <td>0</td>\n",
       "      <td>0</td>\n",
       "      <td>0</td>\n",
       "      <td>0</td>\n",
       "      <td>0</td>\n",
       "      <td>1</td>\n",
       "      <td>0</td>\n",
       "      <td>0</td>\n",
       "      <td>0</td>\n",
       "      <td>0</td>\n",
       "      <td>0</td>\n",
       "      <td>0</td>\n",
       "      <td>0</td>\n",
       "      <td>0</td>\n",
       "      <td>0</td>\n",
       "      <td>0</td>\n",
       "      <td>0</td>\n",
       "    </tr>\n",
       "  </tbody>\n",
       "</table>\n",
       "<p>1000209 rows × 19 columns</p>\n",
       "</div>"
      ],
      "text/plain": [
       "                                       Genres  Drama  War  Children's  \\\n",
       "0                 Animation|Children's|Comedy      0    0           1   \n",
       "1        Animation|Children's|Musical|Romance      0    0           1   \n",
       "2                                       Drama      1    0           0   \n",
       "3             Action|Adventure|Fantasy|Sci-Fi      0    0           0   \n",
       "4                                   Drama|War      1    1           0   \n",
       "...                                       ...    ...  ...         ...   \n",
       "1000204                       Drama|Film-Noir      1    0           0   \n",
       "1000205                         Action|Sci-Fi      0    0           0   \n",
       "1000206                           Crime|Drama      1    0           0   \n",
       "1000207           Animation|Children's|Comedy      0    0           1   \n",
       "1000208                                Comedy      0    0           0   \n",
       "\n",
       "         Musical  Animation  Action  Comedy  Crime  Documentary  Sci-Fi  \\\n",
       "0              0          1       0       1      0            0       0   \n",
       "1              1          1       0       0      0            0       0   \n",
       "2              0          0       0       0      0            0       0   \n",
       "3              0          0       1       0      0            0       1   \n",
       "4              0          0       0       0      0            0       0   \n",
       "...          ...        ...     ...     ...    ...          ...     ...   \n",
       "1000204        0          0       0       0      0            0       0   \n",
       "1000205        0          0       1       0      0            0       1   \n",
       "1000206        0          0       0       0      1            0       0   \n",
       "1000207        0          1       0       1      0            0       0   \n",
       "1000208        0          0       0       1      0            0       0   \n",
       "\n",
       "         Fantasy  Mystery  Romance  Western  Horror  Thriller  Film-Noir  \\\n",
       "0              0        0        0        0       0         0          0   \n",
       "1              0        0        1        0       0         0          0   \n",
       "2              0        0        0        0       0         0          0   \n",
       "3              1        0        0        0       0         0          0   \n",
       "4              0        0        0        0       0         0          0   \n",
       "...          ...      ...      ...      ...     ...       ...        ...   \n",
       "1000204        0        0        0        0       0         0          1   \n",
       "1000205        0        0        0        0       0         0          0   \n",
       "1000206        0        0        0        0       0         0          0   \n",
       "1000207        0        0        0        0       0         0          0   \n",
       "1000208        0        0        0        0       0         0          0   \n",
       "\n",
       "         Adventure  \n",
       "0                0  \n",
       "1                0  \n",
       "2                0  \n",
       "3                1  \n",
       "4                0  \n",
       "...            ...  \n",
       "1000204          0  \n",
       "1000205          0  \n",
       "1000206          0  \n",
       "1000207          0  \n",
       "1000208          0  \n",
       "\n",
       "[1000209 rows x 19 columns]"
      ]
     },
     "execution_count": 27,
     "metadata": {},
     "output_type": "execute_result"
    }
   ],
   "source": [
    "ohe_df"
   ]
  },
  {
   "cell_type": "markdown",
   "id": "ffe81a16",
   "metadata": {},
   "source": [
    "# 7 .Features effecting ratings of toy story movie"
   ]
  },
  {
   "cell_type": "code",
   "execution_count": 28,
   "id": "b4060afd",
   "metadata": {
    "scrolled": true
   },
   "outputs": [
    {
     "data": {
      "text/html": [
       "<div>\n",
       "<style scoped>\n",
       "    .dataframe tbody tr th:only-of-type {\n",
       "        vertical-align: middle;\n",
       "    }\n",
       "\n",
       "    .dataframe tbody tr th {\n",
       "        vertical-align: top;\n",
       "    }\n",
       "\n",
       "    .dataframe thead th {\n",
       "        text-align: right;\n",
       "    }\n",
       "</style>\n",
       "<table border=\"1\" class=\"dataframe\">\n",
       "  <thead>\n",
       "    <tr style=\"text-align: right;\">\n",
       "      <th></th>\n",
       "      <th>MovieID</th>\n",
       "      <th>Title</th>\n",
       "      <th>Genres</th>\n",
       "      <th>UserID</th>\n",
       "      <th>Rating</th>\n",
       "      <th>Timestamp</th>\n",
       "      <th>Gender</th>\n",
       "      <th>Age</th>\n",
       "      <th>Occupation</th>\n",
       "      <th>Zip-code</th>\n",
       "    </tr>\n",
       "  </thead>\n",
       "  <tbody>\n",
       "    <tr>\n",
       "      <th>0</th>\n",
       "      <td>1</td>\n",
       "      <td>Toy Story (1995)</td>\n",
       "      <td>Animation|Children's|Comedy</td>\n",
       "      <td>1</td>\n",
       "      <td>5</td>\n",
       "      <td>978824268</td>\n",
       "      <td>F</td>\n",
       "      <td>1</td>\n",
       "      <td>10</td>\n",
       "      <td>48067</td>\n",
       "    </tr>\n",
       "    <tr>\n",
       "      <th>452</th>\n",
       "      <td>1</td>\n",
       "      <td>Toy Story (1995)</td>\n",
       "      <td>Animation|Children's|Comedy</td>\n",
       "      <td>6</td>\n",
       "      <td>4</td>\n",
       "      <td>978237008</td>\n",
       "      <td>F</td>\n",
       "      <td>50</td>\n",
       "      <td>9</td>\n",
       "      <td>55117</td>\n",
       "    </tr>\n",
       "    <tr>\n",
       "      <th>554</th>\n",
       "      <td>1</td>\n",
       "      <td>Toy Story (1995)</td>\n",
       "      <td>Animation|Children's|Comedy</td>\n",
       "      <td>8</td>\n",
       "      <td>4</td>\n",
       "      <td>978233496</td>\n",
       "      <td>M</td>\n",
       "      <td>25</td>\n",
       "      <td>12</td>\n",
       "      <td>11413</td>\n",
       "    </tr>\n",
       "    <tr>\n",
       "      <th>693</th>\n",
       "      <td>1</td>\n",
       "      <td>Toy Story (1995)</td>\n",
       "      <td>Animation|Children's|Comedy</td>\n",
       "      <td>9</td>\n",
       "      <td>5</td>\n",
       "      <td>978225952</td>\n",
       "      <td>M</td>\n",
       "      <td>25</td>\n",
       "      <td>17</td>\n",
       "      <td>61614</td>\n",
       "    </tr>\n",
       "    <tr>\n",
       "      <th>799</th>\n",
       "      <td>1</td>\n",
       "      <td>Toy Story (1995)</td>\n",
       "      <td>Animation|Children's|Comedy</td>\n",
       "      <td>10</td>\n",
       "      <td>5</td>\n",
       "      <td>978226474</td>\n",
       "      <td>F</td>\n",
       "      <td>35</td>\n",
       "      <td>1</td>\n",
       "      <td>95370</td>\n",
       "    </tr>\n",
       "  </tbody>\n",
       "</table>\n",
       "</div>"
      ],
      "text/plain": [
       "     MovieID             Title                       Genres  UserID  Rating  \\\n",
       "0          1  Toy Story (1995)  Animation|Children's|Comedy       1       5   \n",
       "452        1  Toy Story (1995)  Animation|Children's|Comedy       6       4   \n",
       "554        1  Toy Story (1995)  Animation|Children's|Comedy       8       4   \n",
       "693        1  Toy Story (1995)  Animation|Children's|Comedy       9       5   \n",
       "799        1  Toy Story (1995)  Animation|Children's|Comedy      10       5   \n",
       "\n",
       "     Timestamp Gender  Age  Occupation Zip-code  \n",
       "0    978824268      F    1          10    48067  \n",
       "452  978237008      F   50           9    55117  \n",
       "554  978233496      M   25          12    11413  \n",
       "693  978225952      M   25          17    61614  \n",
       "799  978226474      F   35           1    95370  "
      ]
     },
     "execution_count": 28,
     "metadata": {},
     "output_type": "execute_result"
    }
   ],
   "source": [
    "toy_story_ratings.head()"
   ]
  },
  {
   "cell_type": "code",
   "execution_count": 29,
   "id": "24fc8f66",
   "metadata": {
    "scrolled": true
   },
   "outputs": [
    {
     "name": "stderr",
     "output_type": "stream",
     "text": [
      "C:\\ProgramData\\Anaconda3\\lib\\site-packages\\pandas\\io\\formats\\style.py:1264: RuntimeWarning: All-NaN slice encountered\n",
      "  smin = np.nanmin(s.to_numpy()) if vmin is None else vmin\n",
      "C:\\ProgramData\\Anaconda3\\lib\\site-packages\\pandas\\io\\formats\\style.py:1265: RuntimeWarning: All-NaN slice encountered\n",
      "  smax = np.nanmax(s.to_numpy()) if vmax is None else vmax\n"
     ]
    },
    {
     "data": {
      "text/html": [
       "<style  type=\"text/css\" >\n",
       "#T_55fea_row0_col0,#T_55fea_row0_col1,#T_55fea_row0_col2,#T_55fea_row0_col3,#T_55fea_row0_col4,#T_55fea_row0_col5,#T_55fea_row1_col0,#T_55fea_row2_col0,#T_55fea_row3_col0,#T_55fea_row4_col0,#T_55fea_row5_col0{\n",
       "            background-color:  #000000;\n",
       "            color:  #f1f1f1;\n",
       "        }#T_55fea_row1_col1,#T_55fea_row2_col2,#T_55fea_row3_col3,#T_55fea_row4_col4,#T_55fea_row5_col5{\n",
       "            background-color:  #b40426;\n",
       "            color:  #f1f1f1;\n",
       "        }#T_55fea_row1_col2,#T_55fea_row1_col5{\n",
       "            background-color:  #465ecf;\n",
       "            color:  #f1f1f1;\n",
       "        }#T_55fea_row1_col3,#T_55fea_row2_col5,#T_55fea_row3_col1,#T_55fea_row3_col4,#T_55fea_row5_col2{\n",
       "            background-color:  #3b4cc0;\n",
       "            color:  #f1f1f1;\n",
       "        }#T_55fea_row1_col4,#T_55fea_row3_col5{\n",
       "            background-color:  #4961d2;\n",
       "            color:  #f1f1f1;\n",
       "        }#T_55fea_row2_col1,#T_55fea_row5_col1{\n",
       "            background-color:  #c1d4f4;\n",
       "            color:  #000000;\n",
       "        }#T_55fea_row2_col3{\n",
       "            background-color:  #c0d4f5;\n",
       "            color:  #000000;\n",
       "        }#T_55fea_row2_col4{\n",
       "            background-color:  #4c66d6;\n",
       "            color:  #000000;\n",
       "        }#T_55fea_row3_col2{\n",
       "            background-color:  #455cce;\n",
       "            color:  #f1f1f1;\n",
       "        }#T_55fea_row4_col1{\n",
       "            background-color:  #c6d6f1;\n",
       "            color:  #000000;\n",
       "        }#T_55fea_row4_col2{\n",
       "            background-color:  #516ddb;\n",
       "            color:  #000000;\n",
       "        }#T_55fea_row4_col3{\n",
       "            background-color:  #bcd2f7;\n",
       "            color:  #000000;\n",
       "        }#T_55fea_row4_col5{\n",
       "            background-color:  #5d7ce6;\n",
       "            color:  #000000;\n",
       "        }#T_55fea_row5_col3{\n",
       "            background-color:  #c3d5f4;\n",
       "            color:  #000000;\n",
       "        }#T_55fea_row5_col4{\n",
       "            background-color:  #5875e1;\n",
       "            color:  #000000;\n",
       "        }</style><table id=\"T_55fea_\" ><thead>    <tr>        <th class=\"blank level0\" ></th>        <th class=\"col_heading level0 col0\" >MovieID</th>        <th class=\"col_heading level0 col1\" >UserID</th>        <th class=\"col_heading level0 col2\" >Rating</th>        <th class=\"col_heading level0 col3\" >Timestamp</th>        <th class=\"col_heading level0 col4\" >Age</th>        <th class=\"col_heading level0 col5\" >Occupation</th>    </tr></thead><tbody>\n",
       "                <tr>\n",
       "                        <th id=\"T_55fea_level0_row0\" class=\"row_heading level0 row0\" >MovieID</th>\n",
       "                        <td id=\"T_55fea_row0_col0\" class=\"data row0 col0\" >nan</td>\n",
       "                        <td id=\"T_55fea_row0_col1\" class=\"data row0 col1\" >nan</td>\n",
       "                        <td id=\"T_55fea_row0_col2\" class=\"data row0 col2\" >nan</td>\n",
       "                        <td id=\"T_55fea_row0_col3\" class=\"data row0 col3\" >nan</td>\n",
       "                        <td id=\"T_55fea_row0_col4\" class=\"data row0 col4\" >nan</td>\n",
       "                        <td id=\"T_55fea_row0_col5\" class=\"data row0 col5\" >nan</td>\n",
       "            </tr>\n",
       "            <tr>\n",
       "                        <th id=\"T_55fea_level0_row1\" class=\"row_heading level0 row1\" >UserID</th>\n",
       "                        <td id=\"T_55fea_row1_col0\" class=\"data row1 col0\" >nan</td>\n",
       "                        <td id=\"T_55fea_row1_col1\" class=\"data row1 col1\" >1.000000</td>\n",
       "                        <td id=\"T_55fea_row1_col2\" class=\"data row1 col2\" >0.007813</td>\n",
       "                        <td id=\"T_55fea_row1_col3\" class=\"data row1 col3\" >-0.660485</td>\n",
       "                        <td id=\"T_55fea_row1_col4\" class=\"data row1 col4\" >0.035365</td>\n",
       "                        <td id=\"T_55fea_row1_col5\" class=\"data row1 col5\" >0.009303</td>\n",
       "            </tr>\n",
       "            <tr>\n",
       "                        <th id=\"T_55fea_level0_row2\" class=\"row_heading level0 row2\" >Rating</th>\n",
       "                        <td id=\"T_55fea_row2_col0\" class=\"data row2 col0\" >nan</td>\n",
       "                        <td id=\"T_55fea_row2_col1\" class=\"data row2 col1\" >0.007813</td>\n",
       "                        <td id=\"T_55fea_row2_col2\" class=\"data row2 col2\" >1.000000</td>\n",
       "                        <td id=\"T_55fea_row2_col3\" class=\"data row2 col3\" >0.004136</td>\n",
       "                        <td id=\"T_55fea_row2_col4\" class=\"data row2 col4\" >0.046936</td>\n",
       "                        <td id=\"T_55fea_row2_col5\" class=\"data row2 col5\" >-0.032750</td>\n",
       "            </tr>\n",
       "            <tr>\n",
       "                        <th id=\"T_55fea_level0_row3\" class=\"row_heading level0 row3\" >Timestamp</th>\n",
       "                        <td id=\"T_55fea_row3_col0\" class=\"data row3 col0\" >nan</td>\n",
       "                        <td id=\"T_55fea_row3_col1\" class=\"data row3 col1\" >-0.660485</td>\n",
       "                        <td id=\"T_55fea_row3_col2\" class=\"data row3 col2\" >0.004136</td>\n",
       "                        <td id=\"T_55fea_row3_col3\" class=\"data row3 col3\" >1.000000</td>\n",
       "                        <td id=\"T_55fea_row3_col4\" class=\"data row3 col4\" >-0.015260</td>\n",
       "                        <td id=\"T_55fea_row3_col5\" class=\"data row3 col5\" >0.015927</td>\n",
       "            </tr>\n",
       "            <tr>\n",
       "                        <th id=\"T_55fea_level0_row4\" class=\"row_heading level0 row4\" >Age</th>\n",
       "                        <td id=\"T_55fea_row4_col0\" class=\"data row4 col0\" >nan</td>\n",
       "                        <td id=\"T_55fea_row4_col1\" class=\"data row4 col1\" >0.035365</td>\n",
       "                        <td id=\"T_55fea_row4_col2\" class=\"data row4 col2\" >0.046936</td>\n",
       "                        <td id=\"T_55fea_row4_col3\" class=\"data row4 col3\" >-0.015260</td>\n",
       "                        <td id=\"T_55fea_row4_col4\" class=\"data row4 col4\" >1.000000</td>\n",
       "                        <td id=\"T_55fea_row4_col5\" class=\"data row4 col5\" >0.080612</td>\n",
       "            </tr>\n",
       "            <tr>\n",
       "                        <th id=\"T_55fea_level0_row5\" class=\"row_heading level0 row5\" >Occupation</th>\n",
       "                        <td id=\"T_55fea_row5_col0\" class=\"data row5 col0\" >nan</td>\n",
       "                        <td id=\"T_55fea_row5_col1\" class=\"data row5 col1\" >0.009303</td>\n",
       "                        <td id=\"T_55fea_row5_col2\" class=\"data row5 col2\" >-0.032750</td>\n",
       "                        <td id=\"T_55fea_row5_col3\" class=\"data row5 col3\" >0.015927</td>\n",
       "                        <td id=\"T_55fea_row5_col4\" class=\"data row5 col4\" >0.080612</td>\n",
       "                        <td id=\"T_55fea_row5_col5\" class=\"data row5 col5\" >1.000000</td>\n",
       "            </tr>\n",
       "    </tbody></table>"
      ],
      "text/plain": [
       "<pandas.io.formats.style.Styler at 0x4b09c98760>"
      ]
     },
     "execution_count": 29,
     "metadata": {},
     "output_type": "execute_result"
    }
   ],
   "source": [
    "co_re = toy_story_ratings.corr()\n",
    "co_re.style.background_gradient(cmap = \"coolwarm\")"
   ]
  },
  {
   "cell_type": "code",
   "execution_count": 30,
   "id": "b57c21f6",
   "metadata": {},
   "outputs": [
    {
     "name": "stdout",
     "output_type": "stream",
     "text": [
      "[10, 45, 253, 611, 567]\n",
      "[6, 16, 92, 224, 253]\n"
     ]
    }
   ],
   "source": [
    "m = []\n",
    "f = []\n",
    "for i in [1,2,3,4,5]:\n",
    "    ratings_l = toy_story_ratings.loc[toy_story_ratings[\"Rating\"] == i]   \n",
    "    k = ratings_l[\"Gender\"].value_counts()\n",
    "    m.append(k[\"M\"])\n",
    "    f.append(k[\"F\"])\n",
    "print(m)\n",
    "print(f)"
   ]
  },
  {
   "cell_type": "code",
   "execution_count": 31,
   "id": "0a36ebae",
   "metadata": {
    "scrolled": true
   },
   "outputs": [
    {
     "data": {
      "image/png": "[encoded data removed]",
      "text/plain": [
       "<Figure size 432x288 with 1 Axes>"
      ]
     },
     "metadata": {
      "needs_background": "light"
     },
     "output_type": "display_data"
    }
   ],
   "source": [
    "labels = ['1', '2', '3', '4', '5']\n",
    "\n",
    "x = np.arange(len(labels))  # the label locations\n",
    "width = 0.35  # the width of the bars\n",
    "\n",
    "fig, ax = plt.subplots()\n",
    "rects1 = ax.bar(x - width/2, m, width, label='Men')\n",
    "rects2 = ax.bar(x + width/2, f, width, label='Women')\n",
    "\n",
    "# Add some text for labels, title and custom x-axis tick labels, etc.\n",
    "ax.set_ylabel('no of ratings')\n",
    "ax.set_title('Ratings by gender')\n",
    "ax.set_xticks(x)\n",
    "ax.set_xticklabels(labels)\n",
    "ax.legend()\n",
    "\n",
    "fig.tight_layout()\n",
    "\n",
    "plt.show()"
   ]
  },
  {
   "cell_type": "markdown",
   "id": "384f6d1f",
   "metadata": {},
   "source": [
    "# 8.1 Multiple Linear regression"
   ]
  },
  {
   "cell_type": "code",
   "execution_count": 32,
   "id": "dfae186b",
   "metadata": {
    "scrolled": true
   },
   "outputs": [],
   "source": [
    "final_ratings = pd.merge(master_ratings,ohe_df,left_index = True, right_index = True)\n",
    "rating_Df = final_ratings[\"Rating\"].values\n",
    "for i in [\"M\",\"F\"]:\n",
    "    final_ratings[i] = final_ratings[\"Gender\"].str.contains(i)*1"
   ]
  },
  {
   "cell_type": "code",
   "execution_count": 33,
   "id": "a31c6ffa",
   "metadata": {
    "scrolled": false
   },
   "outputs": [
    {
     "name": "stdout",
     "output_type": "stream",
     "text": [
      "<class 'pandas.core.frame.DataFrame'>\n",
      "RangeIndex: 1000209 entries, 0 to 1000208\n",
      "Data columns (total 25 columns):\n",
      " #   Column       Non-Null Count    Dtype\n",
      "---  ------       --------------    -----\n",
      " 0   MovieID      1000209 non-null  int64\n",
      " 1   UserID       1000209 non-null  int64\n",
      " 2   Timestamp    1000209 non-null  int64\n",
      " 3   Age          1000209 non-null  int64\n",
      " 4   Occupation   1000209 non-null  int64\n",
      " 5   Drama        1000209 non-null  int32\n",
      " 6   War          1000209 non-null  int32\n",
      " 7   Children's   1000209 non-null  int32\n",
      " 8   Musical      1000209 non-null  int32\n",
      " 9   Animation    1000209 non-null  int32\n",
      " 10  Action       1000209 non-null  int32\n",
      " 11  Comedy       1000209 non-null  int32\n",
      " 12  Crime        1000209 non-null  int32\n",
      " 13  Documentary  1000209 non-null  int32\n",
      " 14  Sci-Fi       1000209 non-null  int32\n",
      " 15  Fantasy      1000209 non-null  int32\n",
      " 16  Mystery      1000209 non-null  int32\n",
      " 17  Romance      1000209 non-null  int32\n",
      " 18  Western      1000209 non-null  int32\n",
      " 19  Horror       1000209 non-null  int32\n",
      " 20  Thriller     1000209 non-null  int32\n",
      " 21  Film-Noir    1000209 non-null  int32\n",
      " 22  Adventure    1000209 non-null  int32\n",
      " 23  M            1000209 non-null  int32\n",
      " 24  F            1000209 non-null  int32\n",
      "dtypes: int32(20), int64(5)\n",
      "memory usage: 114.5 MB\n"
     ]
    }
   ],
   "source": [
    "final_ratings.drop([\"Genres_x\",\"Genres_y\",\"Rating\",\"Gender\",\"Zip-code\",\"Title\"],axis = 1,inplace = True)\n",
    "final_ratings.info()"
   ]
  },
  {
   "cell_type": "code",
   "execution_count": 34,
   "id": "d6a2075c",
   "metadata": {},
   "outputs": [],
   "source": [
    "from sklearn.model_selection import train_test_split\n",
    "X_train,X_test,Y_train,Y_test = train_test_split(final_ratings,rating_Df,test_size = 0.025,random_state = 2)"
   ]
  },
  {
   "cell_type": "code",
   "execution_count": 35,
   "id": "0278b49d",
   "metadata": {},
   "outputs": [
    {
     "data": {
      "text/plain": [
       "numpy.ndarray"
      ]
     },
     "execution_count": 35,
     "metadata": {},
     "output_type": "execute_result"
    }
   ],
   "source": [
    "type(Y_train)"
   ]
  },
  {
   "cell_type": "code",
   "execution_count": 36,
   "id": "208fc9fe",
   "metadata": {},
   "outputs": [],
   "source": [
    "from sklearn.preprocessing import StandardScaler\n",
    "sc = StandardScaler()\n",
    "X_train = sc.fit_transform(X_train)\n",
    "X_test = sc.fit_transform(X_test)"
   ]
  },
  {
   "cell_type": "code",
   "execution_count": 37,
   "id": "f51fc2b3",
   "metadata": {},
   "outputs": [
    {
     "data": {
      "text/plain": [
       "LinearRegression()"
      ]
     },
     "execution_count": 37,
     "metadata": {},
     "output_type": "execute_result"
    }
   ],
   "source": [
    "from sklearn.linear_model import LinearRegression\n",
    "regressor = LinearRegression()\n",
    "regressor.fit(X_train, Y_train)"
   ]
  },
  {
   "cell_type": "code",
   "execution_count": 38,
   "id": "76666510",
   "metadata": {},
   "outputs": [
    {
     "data": {
      "text/plain": [
       "array([4, 3, 4, ..., 3, 3, 4])"
      ]
     },
     "execution_count": 38,
     "metadata": {},
     "output_type": "execute_result"
    }
   ],
   "source": [
    "Y_pred = regressor.predict(X_test)\n",
    "Y_pred = [int(round(num)) for num in Y_pred]\n",
    "Y_pred = np.array(Y_pred)\n",
    "Y_pred"
   ]
  },
  {
   "cell_type": "code",
   "execution_count": 39,
   "id": "4f3c4a21",
   "metadata": {},
   "outputs": [
    {
     "name": "stdout",
     "output_type": "stream",
     "text": [
      "[[5 4]\n",
      " [4 3]\n",
      " [4 4]\n",
      " ...\n",
      " [3 3]\n",
      " [5 3]\n",
      " [2 4]]\n"
     ]
    }
   ],
   "source": [
    "print(np.concatenate((Y_test.reshape(-1,1),Y_pred.reshape(-1,1)),1))"
   ]
  },
  {
   "cell_type": "code",
   "execution_count": 40,
   "id": "8db3e227",
   "metadata": {},
   "outputs": [
    {
     "name": "stdout",
     "output_type": "stream",
     "text": [
      "3.58136716150381\n",
      "[-6.10758476e-02 -4.69830736e-03 -2.85766334e-02  4.70086635e-02\n",
      "  7.33918069e-03  1.06848114e-01  6.87716266e-02 -9.00316851e-02\n",
      "  2.75791717e-02  7.75002861e-02 -4.44815707e-02 -6.07644893e-03\n",
      "  2.12860600e-02  3.48651746e-02 -1.10502659e-02  1.28706888e-02\n",
      "  7.55677207e-04 -1.24330294e-02  1.44001568e-02 -7.62844079e-02\n",
      "  1.75871593e-02  5.69857209e-02 -1.48343502e-03  7.56122244e+10\n",
      "  7.56122244e+10]\n"
     ]
    }
   ],
   "source": [
    "print(regressor.intercept_)\n",
    "print(regressor.coef_)"
   ]
  },
  {
   "cell_type": "code",
   "execution_count": 41,
   "id": "5c395286",
   "metadata": {},
   "outputs": [
    {
     "data": {
      "text/plain": [
       "0.33355994561305286"
      ]
     },
     "execution_count": 41,
     "metadata": {},
     "output_type": "execute_result"
    }
   ],
   "source": [
    "from sklearn.metrics import accuracy_score as a_s\n",
    "a_s(Y_test,Y_pred)"
   ]
  },
  {
   "cell_type": "code",
   "execution_count": 42,
   "id": "47e6b915",
   "metadata": {
    "scrolled": true
   },
   "outputs": [
    {
     "name": "stdout",
     "output_type": "stream",
     "text": [
      "[[   0    0  758  632    0]\n",
      " [   0    0 1284 1399    0]\n",
      " [   0    0 2599 3828    0]\n",
      " [   0    0 3072 5742    0]\n",
      " [   0    0 1661 4031    0]]\n"
     ]
    }
   ],
   "source": [
    "from sklearn.metrics import confusion_matrix\n",
    "cm = confusion_matrix(Y_test,Y_pred)\n",
    "print(cm)"
   ]
  },
  {
   "cell_type": "code",
   "execution_count": 43,
   "id": "75757206",
   "metadata": {},
   "outputs": [
    {
     "data": {
      "text/plain": [
       "0.8696712788930656"
      ]
     },
     "execution_count": 43,
     "metadata": {},
     "output_type": "execute_result"
    }
   ],
   "source": [
    "from sklearn.metrics import mean_absolute_error as me\n",
    "me(Y_test,Y_pred)"
   ]
  },
  {
   "cell_type": "markdown",
   "id": "92253809",
   "metadata": {},
   "source": [
    "# 8 .2 KNN"
   ]
  },
  {
   "cell_type": "code",
   "execution_count": 44,
   "id": "c2114777",
   "metadata": {},
   "outputs": [
    {
     "data": {
      "text/plain": [
       "KNeighborsClassifier()"
      ]
     },
     "execution_count": 44,
     "metadata": {},
     "output_type": "execute_result"
    }
   ],
   "source": [
    "from sklearn.neighbors import KNeighborsClassifier\n",
    "classifier =  KNeighborsClassifier(n_neighbors = 5,metric = \"minkowski\",p=2)\n",
    "classifier.fit(X_train,Y_train)"
   ]
  },
  {
   "cell_type": "code",
   "execution_count": 45,
   "id": "c2c5ca0f",
   "metadata": {},
   "outputs": [],
   "source": [
    "Y_pred_0 = classifier.predict(X_test)"
   ]
  },
  {
   "cell_type": "code",
   "execution_count": 46,
   "id": "20e2a2e8",
   "metadata": {},
   "outputs": [],
   "source": [
    "Y_pred_0 = [int(round(num)) for num in Y_pred_0]\n",
    "Y_pred_0 = np.array(Y_pred)"
   ]
  },
  {
   "cell_type": "code",
   "execution_count": 47,
   "id": "c9ffa027",
   "metadata": {},
   "outputs": [
    {
     "data": {
      "text/plain": [
       "array([4, 3, 4, ..., 3, 3, 4])"
      ]
     },
     "execution_count": 47,
     "metadata": {},
     "output_type": "execute_result"
    }
   ],
   "source": [
    "Y_pred_0"
   ]
  },
  {
   "cell_type": "code",
   "execution_count": 48,
   "id": "e056cd1e",
   "metadata": {},
   "outputs": [
    {
     "name": "stdout",
     "output_type": "stream",
     "text": [
      "[[5 4]\n",
      " [4 3]\n",
      " [4 4]\n",
      " ...\n",
      " [3 3]\n",
      " [5 3]\n",
      " [2 4]]\n"
     ]
    }
   ],
   "source": [
    "print(np.concatenate((Y_test.reshape(-1,1),Y_pred_0.reshape(-1,1)),1))"
   ]
  },
  {
   "cell_type": "code",
   "execution_count": 49,
   "id": "3c073030",
   "metadata": {},
   "outputs": [
    {
     "name": "stdout",
     "output_type": "stream",
     "text": [
      "[[   0    0  758  632    0]\n",
      " [   0    0 1284 1399    0]\n",
      " [   0    0 2599 3828    0]\n",
      " [   0    0 3072 5742    0]\n",
      " [   0    0 1661 4031    0]]\n"
     ]
    }
   ],
   "source": [
    "from sklearn.metrics import confusion_matrix\n",
    "cm = confusion_matrix(Y_test,Y_pred_0)\n",
    "print(cm)"
   ]
  },
  {
   "cell_type": "code",
   "execution_count": 50,
   "id": "61647a9f",
   "metadata": {},
   "outputs": [
    {
     "data": {
      "text/plain": [
       "0.33355994561305286"
      ]
     },
     "execution_count": 50,
     "metadata": {},
     "output_type": "execute_result"
    }
   ],
   "source": [
    "from sklearn.metrics import accuracy_score\n",
    "accuracy_score(Y_test,Y_pred_0)"
   ]
  },
  {
   "cell_type": "code",
   "execution_count": 51,
   "id": "f1f51007",
   "metadata": {},
   "outputs": [
    {
     "data": {
      "text/plain": [
       "0.8696712788930656"
      ]
     },
     "execution_count": 51,
     "metadata": {},
     "output_type": "execute_result"
    }
   ],
   "source": [
    "from sklearn.metrics import mean_absolute_error as me\n",
    "me(Y_test,Y_pred_0)"
   ]
  },
  {
   "cell_type": "markdown",
   "id": "618f4dc7",
   "metadata": {},
   "source": [
    "# 8.3 Naive bayes"
   ]
  },
  {
   "cell_type": "code",
   "execution_count": 52,
   "id": "d9acc70b",
   "metadata": {},
   "outputs": [
    {
     "data": {
      "text/plain": [
       "GaussianNB()"
      ]
     },
     "execution_count": 52,
     "metadata": {},
     "output_type": "execute_result"
    }
   ],
   "source": [
    "from sklearn.naive_bayes import GaussianNB\n",
    "classifier_1 =  GaussianNB()\n",
    "classifier_1.fit(X_train,Y_train)"
   ]
  },
  {
   "cell_type": "code",
   "execution_count": 53,
   "id": "4bc62d71",
   "metadata": {},
   "outputs": [
    {
     "data": {
      "text/plain": [
       "array([3, 3, 3, ..., 1, 1, 4], dtype=int64)"
      ]
     },
     "execution_count": 53,
     "metadata": {},
     "output_type": "execute_result"
    }
   ],
   "source": [
    "Y_pred_1 = classifier_1.predict(X_test)\n",
    "Y_pred_1 "
   ]
  },
  {
   "cell_type": "code",
   "execution_count": 54,
   "id": "8e201aa7",
   "metadata": {},
   "outputs": [
    {
     "name": "stdout",
     "output_type": "stream",
     "text": [
      "[[5 3]\n",
      " [4 3]\n",
      " [4 3]\n",
      " ...\n",
      " [3 1]\n",
      " [5 1]\n",
      " [2 4]]\n"
     ]
    }
   ],
   "source": [
    "print(np.concatenate((Y_test.reshape(-1,1),Y_pred_1.reshape(-1,1)),1))"
   ]
  },
  {
   "cell_type": "code",
   "execution_count": 55,
   "id": "ae87d17e",
   "metadata": {},
   "outputs": [
    {
     "name": "stdout",
     "output_type": "stream",
     "text": [
      "[[ 313  206  425  324  122]\n",
      " [ 400  378  926  701  278]\n",
      " [ 751  812 2101 1987  776]\n",
      " [ 738 1011 2610 3019 1436]\n",
      " [ 467  552 1453 1996 1224]]\n"
     ]
    }
   ],
   "source": [
    "from sklearn.metrics import confusion_matrix\n",
    "cm = confusion_matrix(Y_test,Y_pred_1)\n",
    "print(cm)"
   ]
  },
  {
   "cell_type": "code",
   "execution_count": 56,
   "id": "4a9007cb",
   "metadata": {},
   "outputs": [
    {
     "data": {
      "text/plain": [
       "0.2813324802047509"
      ]
     },
     "execution_count": 56,
     "metadata": {},
     "output_type": "execute_result"
    }
   ],
   "source": [
    "from sklearn.metrics import accuracy_score\n",
    "accuracy_score(Y_test,Y_pred_1)"
   ]
  },
  {
   "cell_type": "markdown",
   "id": "ee142e47",
   "metadata": {},
   "source": [
    "# 8.4 decision making tree"
   ]
  },
  {
   "cell_type": "code",
   "execution_count": 57,
   "id": "3555401e",
   "metadata": {},
   "outputs": [
    {
     "data": {
      "text/plain": [
       "DecisionTreeClassifier()"
      ]
     },
     "execution_count": 57,
     "metadata": {},
     "output_type": "execute_result"
    }
   ],
   "source": [
    "from sklearn.tree import DecisionTreeClassifier\n",
    "classifier_2 =  DecisionTreeClassifier()\n",
    "classifier_2.fit(X_train,Y_train)"
   ]
  },
  {
   "cell_type": "code",
   "execution_count": 58,
   "id": "886d2e2d",
   "metadata": {},
   "outputs": [
    {
     "data": {
      "text/plain": [
       "array([3, 3, 4, ..., 2, 3, 2], dtype=int64)"
      ]
     },
     "execution_count": 58,
     "metadata": {},
     "output_type": "execute_result"
    }
   ],
   "source": [
    "Y_pred_2 = classifier_2.predict(X_test)\n",
    "Y_pred_2"
   ]
  },
  {
   "cell_type": "code",
   "execution_count": 59,
   "id": "81316533",
   "metadata": {},
   "outputs": [
    {
     "name": "stdout",
     "output_type": "stream",
     "text": [
      "[[5 3]\n",
      " [4 3]\n",
      " [4 4]\n",
      " ...\n",
      " [3 2]\n",
      " [5 3]\n",
      " [2 2]]\n"
     ]
    }
   ],
   "source": [
    "print(np.concatenate((Y_test.reshape(-1,1),Y_pred_2.reshape(-1,1)),1))"
   ]
  },
  {
   "cell_type": "code",
   "execution_count": 60,
   "id": "b980030b",
   "metadata": {},
   "outputs": [
    {
     "name": "stdout",
     "output_type": "stream",
     "text": [
      "[[ 273  267  384  333  133]\n",
      " [ 296  506  805  757  319]\n",
      " [ 564  947 1987 2004  925]\n",
      " [ 627 1061 2463 2965 1698]\n",
      " [ 378  592 1385 1902 1435]]\n"
     ]
    }
   ],
   "source": [
    "from sklearn.metrics import confusion_matrix\n",
    "cm = confusion_matrix(Y_test,Y_pred_2)\n",
    "print(cm)"
   ]
  },
  {
   "cell_type": "code",
   "execution_count": 61,
   "id": "cc521619",
   "metadata": {},
   "outputs": [
    {
     "data": {
      "text/plain": [
       "0.28657122290650244"
      ]
     },
     "execution_count": 61,
     "metadata": {},
     "output_type": "execute_result"
    }
   ],
   "source": [
    "from sklearn.metrics import accuracy_score\n",
    "accuracy_score(Y_test,Y_pred_2)"
   ]
  },
  {
   "cell_type": "markdown",
   "id": "b4b33fa2",
   "metadata": {},
   "source": [
    "# 8.5 Random forest"
   ]
  },
  {
   "cell_type": "code",
   "execution_count": 62,
   "id": "9655b345",
   "metadata": {},
   "outputs": [
    {
     "data": {
      "text/plain": [
       "RandomForestClassifier(n_estimators=12)"
      ]
     },
     "execution_count": 62,
     "metadata": {},
     "output_type": "execute_result"
    }
   ],
   "source": [
    "#FITTING INTO MODEL\n",
    "from sklearn.ensemble import RandomForestClassifier\n",
    "classifier_3 =  RandomForestClassifier(n_estimators = 12)\n",
    "classifier_3.fit(X_train,Y_train)"
   ]
  },
  {
   "cell_type": "code",
   "execution_count": 63,
   "id": "328346cb",
   "metadata": {},
   "outputs": [
    {
     "data": {
      "text/plain": [
       "array([5, 4, 4, ..., 1, 3, 3], dtype=int64)"
      ]
     },
     "execution_count": 63,
     "metadata": {},
     "output_type": "execute_result"
    }
   ],
   "source": [
    "Y_pred_3 = classifier_3.predict(X_test)\n",
    "Y_pred_3"
   ]
  },
  {
   "cell_type": "code",
   "execution_count": 64,
   "id": "02df95f0",
   "metadata": {},
   "outputs": [
    {
     "name": "stdout",
     "output_type": "stream",
     "text": [
      "[[5 5]\n",
      " [4 4]\n",
      " [4 4]\n",
      " ...\n",
      " [3 1]\n",
      " [5 3]\n",
      " [2 3]]\n"
     ]
    }
   ],
   "source": [
    "print(np.concatenate((Y_test.reshape(-1,1),Y_pred_3.reshape(-1,1)),1))"
   ]
  },
  {
   "cell_type": "code",
   "execution_count": 65,
   "id": "f0144800",
   "metadata": {},
   "outputs": [
    {
     "name": "stdout",
     "output_type": "stream",
     "text": [
      "[[ 314  219  415  335  107]\n",
      " [ 222  447  928  836  250]\n",
      " [ 361  713 2300 2275  778]\n",
      " [ 277  685 2480 3853 1519]\n",
      " [ 175  294 1165 2318 1740]]\n"
     ]
    }
   ],
   "source": [
    "from sklearn.metrics import confusion_matrix\n",
    "cm = confusion_matrix(Y_test,Y_pred_3)\n",
    "print(cm)"
   ]
  },
  {
   "cell_type": "code",
   "execution_count": 66,
   "id": "80c53c37",
   "metadata": {},
   "outputs": [
    {
     "data": {
      "text/plain": [
       "0.34607694153403185"
      ]
     },
     "execution_count": 66,
     "metadata": {},
     "output_type": "execute_result"
    }
   ],
   "source": [
    "from sklearn.metrics import accuracy_score\n",
    "accuracy_score(Y_test,Y_pred_3)"
   ]
  },
  {
   "cell_type": "code",
   "execution_count": null,
   "id": "c5a6a6f6",
   "metadata": {},
   "outputs": [],
   "source": []
  }
 ],
 "metadata": {
  "kernelspec": {
   "display_name": "Python 3 (ipykernel)",
   "language": "python",
   "name": "python3"
  },
  "language_info": {
   "codemirror_mode": {
    "name": "ipython",
    "version": 3
   },
   "file_extension": ".py",
   "mimetype": "text/x-python",
   "name": "python",
   "nbconvert_exporter": "python",
   "pygments_lexer": "ipython3",
   "version": "3.9.7"
  }
 },
 "nbformat": 4,
 "nbformat_minor": 5
}
